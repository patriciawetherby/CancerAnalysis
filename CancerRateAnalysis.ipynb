{
  "cells": [
    {
      "cell_type": "markdown",
      "metadata": {
        "id": "view-in-github",
        "colab_type": "text"
      },
      "source": [
        "<a href=\"https://colab.research.google.com/github/pwetherby/CancerAnalysis/blob/main/CancerRateAnalysis.ipynb\" target=\"_parent\"><img src=\"https://colab.research.google.com/assets/colab-badge.svg\" alt=\"Open In Colab\"/></a>"
      ]
    },
    {
      "cell_type": "markdown",
      "id": "80cd6970",
      "metadata": {
        "id": "80cd6970"
      },
      "source": [
        "## Import Libraries"
      ]
    },
    {
      "cell_type": "code",
      "execution_count": 1,
      "id": "3f678891",
      "metadata": {
        "id": "3f678891"
      },
      "outputs": [],
      "source": [
        "import numpy as np\n",
        "import pandas as pd\n",
        "import matplotlib.pyplot as plt\n",
        "import seaborn as sns"
      ]
    },
    {
      "cell_type": "markdown",
      "source": [
        "## Import CSV files"
      ],
      "metadata": {
        "id": "Bw7YI2KL45_Q"
      },
      "id": "Bw7YI2KL45_Q"
    },
    {
      "cell_type": "code",
      "execution_count": 2,
      "id": "a2f4699c",
      "metadata": {
        "id": "a2f4699c"
      },
      "outputs": [],
      "source": [
        "income_death = pd.read_csv('income_death_data.csv')\n",
        "income_incident = pd.read_csv('income_incident_data.csv')\n",
        "incident_death = pd.read_csv('incident_death_data.csv')"
      ]
    },
    {
      "cell_type": "markdown",
      "id": "269e0553",
      "metadata": {
        "id": "269e0553"
      },
      "source": [
        "## Import dataset"
      ]
    },
    {
      "cell_type": "code",
      "execution_count": 3,
      "id": "18aa06a1",
      "metadata": {
        "id": "18aa06a1"
      },
      "outputs": [],
      "source": [
        "# income_death.head()"
      ]
    },
    {
      "cell_type": "code",
      "execution_count": 4,
      "id": "80a0b007",
      "metadata": {
        "id": "80a0b007"
      },
      "outputs": [],
      "source": [
        "high_risk = income_death.sort_values('Age-Adjusted Death Rate',ascending=False).head()"
      ]
    },
    {
      "cell_type": "code",
      "execution_count": 5,
      "id": "b3ed5440",
      "metadata": {
        "scrolled": true,
        "id": "b3ed5440"
      },
      "outputs": [],
      "source": [
        "high_risk = high_risk.drop('Median_Income',axis=1)\n",
        "high_risk = high_risk.drop('Average Deaths per Year',axis=1)"
      ]
    },
    {
      "cell_type": "code",
      "source": [],
      "metadata": {
        "id": "h9j5mDh8DBUV"
      },
      "id": "h9j5mDh8DBUV",
      "execution_count": 5,
      "outputs": []
    },
    {
      "cell_type": "markdown",
      "source": [
        "## High Risk Counties for Cancer Deaths"
      ],
      "metadata": {
        "id": "0NlwC_gNjMlz"
      },
      "id": "0NlwC_gNjMlz"
    },
    {
      "cell_type": "code",
      "execution_count": 6,
      "id": "e66530ff",
      "metadata": {
        "id": "e66530ff",
        "colab": {
          "base_uri": "https://localhost:8080/",
          "height": 206
        },
        "outputId": "fb2e380b-fb6e-44d4-db15-b3025811f85d"
      },
      "outputs": [
        {
          "output_type": "execute_result",
          "data": {
            "text/plain": [
              "                            County  Age-Adjusted Death Rate\n",
              "910    North Slope Borough, Alaska                    124.9\n",
              "1010        Polk County, Tennessee                    103.3\n",
              "418         Floyd County, Kentucky                     98.7\n",
              "832   Mississippi County, Missouri                     97.2\n",
              "908       Nome Census Area, Alaska                     96.1"
            ],
            "text/html": [
              "\n",
              "  <div id=\"df-96ff9787-9a16-44ce-b5ad-57c60a5ba2ae\">\n",
              "    <div class=\"colab-df-container\">\n",
              "      <div>\n",
              "<style scoped>\n",
              "    .dataframe tbody tr th:only-of-type {\n",
              "        vertical-align: middle;\n",
              "    }\n",
              "\n",
              "    .dataframe tbody tr th {\n",
              "        vertical-align: top;\n",
              "    }\n",
              "\n",
              "    .dataframe thead th {\n",
              "        text-align: right;\n",
              "    }\n",
              "</style>\n",
              "<table border=\"1\" class=\"dataframe\">\n",
              "  <thead>\n",
              "    <tr style=\"text-align: right;\">\n",
              "      <th></th>\n",
              "      <th>County</th>\n",
              "      <th>Age-Adjusted Death Rate</th>\n",
              "    </tr>\n",
              "  </thead>\n",
              "  <tbody>\n",
              "    <tr>\n",
              "      <th>910</th>\n",
              "      <td>North Slope Borough, Alaska</td>\n",
              "      <td>124.9</td>\n",
              "    </tr>\n",
              "    <tr>\n",
              "      <th>1010</th>\n",
              "      <td>Polk County, Tennessee</td>\n",
              "      <td>103.3</td>\n",
              "    </tr>\n",
              "    <tr>\n",
              "      <th>418</th>\n",
              "      <td>Floyd County, Kentucky</td>\n",
              "      <td>98.7</td>\n",
              "    </tr>\n",
              "    <tr>\n",
              "      <th>832</th>\n",
              "      <td>Mississippi County, Missouri</td>\n",
              "      <td>97.2</td>\n",
              "    </tr>\n",
              "    <tr>\n",
              "      <th>908</th>\n",
              "      <td>Nome Census Area, Alaska</td>\n",
              "      <td>96.1</td>\n",
              "    </tr>\n",
              "  </tbody>\n",
              "</table>\n",
              "</div>\n",
              "      <button class=\"colab-df-convert\" onclick=\"convertToInteractive('df-96ff9787-9a16-44ce-b5ad-57c60a5ba2ae')\"\n",
              "              title=\"Convert this dataframe to an interactive table.\"\n",
              "              style=\"display:none;\">\n",
              "        \n",
              "  <svg xmlns=\"http://www.w3.org/2000/svg\" height=\"24px\"viewBox=\"0 0 24 24\"\n",
              "       width=\"24px\">\n",
              "    <path d=\"M0 0h24v24H0V0z\" fill=\"none\"/>\n",
              "    <path d=\"M18.56 5.44l.94 2.06.94-2.06 2.06-.94-2.06-.94-.94-2.06-.94 2.06-2.06.94zm-11 1L8.5 8.5l.94-2.06 2.06-.94-2.06-.94L8.5 2.5l-.94 2.06-2.06.94zm10 10l.94 2.06.94-2.06 2.06-.94-2.06-.94-.94-2.06-.94 2.06-2.06.94z\"/><path d=\"M17.41 7.96l-1.37-1.37c-.4-.4-.92-.59-1.43-.59-.52 0-1.04.2-1.43.59L10.3 9.45l-7.72 7.72c-.78.78-.78 2.05 0 2.83L4 21.41c.39.39.9.59 1.41.59.51 0 1.02-.2 1.41-.59l7.78-7.78 2.81-2.81c.8-.78.8-2.07 0-2.86zM5.41 20L4 18.59l7.72-7.72 1.47 1.35L5.41 20z\"/>\n",
              "  </svg>\n",
              "      </button>\n",
              "      \n",
              "  <style>\n",
              "    .colab-df-container {\n",
              "      display:flex;\n",
              "      flex-wrap:wrap;\n",
              "      gap: 12px;\n",
              "    }\n",
              "\n",
              "    .colab-df-convert {\n",
              "      background-color: #E8F0FE;\n",
              "      border: none;\n",
              "      border-radius: 50%;\n",
              "      cursor: pointer;\n",
              "      display: none;\n",
              "      fill: #1967D2;\n",
              "      height: 32px;\n",
              "      padding: 0 0 0 0;\n",
              "      width: 32px;\n",
              "    }\n",
              "\n",
              "    .colab-df-convert:hover {\n",
              "      background-color: #E2EBFA;\n",
              "      box-shadow: 0px 1px 2px rgba(60, 64, 67, 0.3), 0px 1px 3px 1px rgba(60, 64, 67, 0.15);\n",
              "      fill: #174EA6;\n",
              "    }\n",
              "\n",
              "    [theme=dark] .colab-df-convert {\n",
              "      background-color: #3B4455;\n",
              "      fill: #D2E3FC;\n",
              "    }\n",
              "\n",
              "    [theme=dark] .colab-df-convert:hover {\n",
              "      background-color: #434B5C;\n",
              "      box-shadow: 0px 1px 3px 1px rgba(0, 0, 0, 0.15);\n",
              "      filter: drop-shadow(0px 1px 2px rgba(0, 0, 0, 0.3));\n",
              "      fill: #FFFFFF;\n",
              "    }\n",
              "  </style>\n",
              "\n",
              "      <script>\n",
              "        const buttonEl =\n",
              "          document.querySelector('#df-96ff9787-9a16-44ce-b5ad-57c60a5ba2ae button.colab-df-convert');\n",
              "        buttonEl.style.display =\n",
              "          google.colab.kernel.accessAllowed ? 'block' : 'none';\n",
              "\n",
              "        async function convertToInteractive(key) {\n",
              "          const element = document.querySelector('#df-96ff9787-9a16-44ce-b5ad-57c60a5ba2ae');\n",
              "          const dataTable =\n",
              "            await google.colab.kernel.invokeFunction('convertToInteractive',\n",
              "                                                     [key], {});\n",
              "          if (!dataTable) return;\n",
              "\n",
              "          const docLinkHtml = 'Like what you see? Visit the ' +\n",
              "            '<a target=\"_blank\" href=https://colab.research.google.com/notebooks/data_table.ipynb>data table notebook</a>'\n",
              "            + ' to learn more about interactive tables.';\n",
              "          element.innerHTML = '';\n",
              "          dataTable['output_type'] = 'display_data';\n",
              "          await google.colab.output.renderOutput(dataTable, element);\n",
              "          const docLink = document.createElement('div');\n",
              "          docLink.innerHTML = docLinkHtml;\n",
              "          element.appendChild(docLink);\n",
              "        }\n",
              "      </script>\n",
              "    </div>\n",
              "  </div>\n",
              "  "
            ]
          },
          "metadata": {},
          "execution_count": 6
        }
      ],
      "source": [
        "high_risk"
      ]
    },
    {
      "cell_type": "markdown",
      "source": [
        "## Cancer Death and Incident Data\n"
      ],
      "metadata": {
        "id": "g2dtL1hQi3kd"
      },
      "id": "g2dtL1hQi3kd"
    },
    {
      "cell_type": "code",
      "execution_count": 7,
      "id": "8a79476e",
      "metadata": {
        "id": "8a79476e",
        "colab": {
          "base_uri": "https://localhost:8080/",
          "height": 550
        },
        "outputId": "72df0c1c-ea17-4856-fafd-04229480b4b7"
      },
      "outputs": [
        {
          "output_type": "display_data",
          "data": {
            "text/plain": [
              "<Figure size 540x540 with 12 Axes>"
            ],
            "image/png": "[encoded data removed]"
          },
          "metadata": {
            "needs_background": "light"
          }
        }
      ],
      "source": [
        "sns.pairplot(income_death);"
      ]
    },
    {
      "cell_type": "code",
      "execution_count": 8,
      "id": "084352d2",
      "metadata": {
        "id": "084352d2",
        "colab": {
          "base_uri": "https://localhost:8080/",
          "height": 369
        },
        "outputId": "69a855b0-360f-4616-bd79-1895c3d2b497"
      },
      "outputs": [
        {
          "output_type": "display_data",
          "data": {
            "text/plain": [
              "<Figure size 360x360 with 1 Axes>"
            ],
            "image/png": "[encoded data removed]"
          },
          "metadata": {
            "needs_background": "light"
          }
        }
      ],
      "source": [
        "sns.displot(x='Median_Income',data=income_death,kde=True,bins=100);"
      ]
    },
    {
      "cell_type": "code",
      "execution_count": 9,
      "id": "ede78015",
      "metadata": {
        "id": "ede78015",
        "colab": {
          "base_uri": "https://localhost:8080/",
          "height": 283
        },
        "outputId": "431c2c81-ba5f-41b1-e836-f148d3f6ce4c"
      },
      "outputs": [
        {
          "output_type": "display_data",
          "data": {
            "text/plain": [
              "<Figure size 432x288 with 1 Axes>"
            ],
            "image/png": "[encoded data removed]"
          },
          "metadata": {
            "needs_background": "light"
          }
        }
      ],
      "source": [
        "sns.scatterplot(x='Median_Income',y='Average Deaths per Year',data=income_death);"
      ]
    },
    {
      "cell_type": "code",
      "execution_count": 10,
      "id": "35928886",
      "metadata": {
        "id": "35928886",
        "colab": {
          "base_uri": "https://localhost:8080/",
          "height": 280
        },
        "outputId": "95a5097b-2d5b-4206-a022-4ac1a03abf58"
      },
      "outputs": [
        {
          "output_type": "display_data",
          "data": {
            "text/plain": [
              "<Figure size 432x288 with 1 Axes>"
            ],
            "image/png": "[encoded data removed]"
          },
          "metadata": {
            "needs_background": "light"
          }
        }
      ],
      "source": [
        "sns.scatterplot(x='Median_Income',y='Age-Adjusted Death Rate',data=income_death);"
      ]
    },
    {
      "cell_type": "code",
      "execution_count": 11,
      "id": "b52882bf",
      "metadata": {
        "id": "b52882bf",
        "colab": {
          "base_uri": "https://localhost:8080/",
          "height": 143
        },
        "outputId": "6de434fb-6e95-48a0-9f56-ad4542135bfc"
      },
      "outputs": [
        {
          "output_type": "execute_result",
          "data": {
            "text/plain": [
              "                         Median_Income  Age-Adjusted Death Rate  \\\n",
              "Median_Income                 1.000000                -0.354285   \n",
              "Age-Adjusted Death Rate      -0.354285                 1.000000   \n",
              "Average Deaths per Year       0.338089                -0.145618   \n",
              "\n",
              "                         Average Deaths per Year  \n",
              "Median_Income                           0.338089  \n",
              "Age-Adjusted Death Rate                -0.145618  \n",
              "Average Deaths per Year                 1.000000  "
            ],
            "text/html": [
              "\n",
              "  <div id=\"df-b8d95610-e583-45b7-b3bd-510fb4387df9\">\n",
              "    <div class=\"colab-df-container\">\n",
              "      <div>\n",
              "<style scoped>\n",
              "    .dataframe tbody tr th:only-of-type {\n",
              "        vertical-align: middle;\n",
              "    }\n",
              "\n",
              "    .dataframe tbody tr th {\n",
              "        vertical-align: top;\n",
              "    }\n",
              "\n",
              "    .dataframe thead th {\n",
              "        text-align: right;\n",
              "    }\n",
              "</style>\n",
              "<table border=\"1\" class=\"dataframe\">\n",
              "  <thead>\n",
              "    <tr style=\"text-align: right;\">\n",
              "      <th></th>\n",
              "      <th>Median_Income</th>\n",
              "      <th>Age-Adjusted Death Rate</th>\n",
              "      <th>Average Deaths per Year</th>\n",
              "    </tr>\n",
              "  </thead>\n",
              "  <tbody>\n",
              "    <tr>\n",
              "      <th>Median_Income</th>\n",
              "      <td>1.000000</td>\n",
              "      <td>-0.354285</td>\n",
              "      <td>0.338089</td>\n",
              "    </tr>\n",
              "    <tr>\n",
              "      <th>Age-Adjusted Death Rate</th>\n",
              "      <td>-0.354285</td>\n",
              "      <td>1.000000</td>\n",
              "      <td>-0.145618</td>\n",
              "    </tr>\n",
              "    <tr>\n",
              "      <th>Average Deaths per Year</th>\n",
              "      <td>0.338089</td>\n",
              "      <td>-0.145618</td>\n",
              "      <td>1.000000</td>\n",
              "    </tr>\n",
              "  </tbody>\n",
              "</table>\n",
              "</div>\n",
              "      <button class=\"colab-df-convert\" onclick=\"convertToInteractive('df-b8d95610-e583-45b7-b3bd-510fb4387df9')\"\n",
              "              title=\"Convert this dataframe to an interactive table.\"\n",
              "              style=\"display:none;\">\n",
              "        \n",
              "  <svg xmlns=\"http://www.w3.org/2000/svg\" height=\"24px\"viewBox=\"0 0 24 24\"\n",
              "       width=\"24px\">\n",
              "    <path d=\"M0 0h24v24H0V0z\" fill=\"none\"/>\n",
              "    <path d=\"M18.56 5.44l.94 2.06.94-2.06 2.06-.94-2.06-.94-.94-2.06-.94 2.06-2.06.94zm-11 1L8.5 8.5l.94-2.06 2.06-.94-2.06-.94L8.5 2.5l-.94 2.06-2.06.94zm10 10l.94 2.06.94-2.06 2.06-.94-2.06-.94-.94-2.06-.94 2.06-2.06.94z\"/><path d=\"M17.41 7.96l-1.37-1.37c-.4-.4-.92-.59-1.43-.59-.52 0-1.04.2-1.43.59L10.3 9.45l-7.72 7.72c-.78.78-.78 2.05 0 2.83L4 21.41c.39.39.9.59 1.41.59.51 0 1.02-.2 1.41-.59l7.78-7.78 2.81-2.81c.8-.78.8-2.07 0-2.86zM5.41 20L4 18.59l7.72-7.72 1.47 1.35L5.41 20z\"/>\n",
              "  </svg>\n",
              "      </button>\n",
              "      \n",
              "  <style>\n",
              "    .colab-df-container {\n",
              "      display:flex;\n",
              "      flex-wrap:wrap;\n",
              "      gap: 12px;\n",
              "    }\n",
              "\n",
              "    .colab-df-convert {\n",
              "      background-color: #E8F0FE;\n",
              "      border: none;\n",
              "      border-radius: 50%;\n",
              "      cursor: pointer;\n",
              "      display: none;\n",
              "      fill: #1967D2;\n",
              "      height: 32px;\n",
              "      padding: 0 0 0 0;\n",
              "      width: 32px;\n",
              "    }\n",
              "\n",
              "    .colab-df-convert:hover {\n",
              "      background-color: #E2EBFA;\n",
              "      box-shadow: 0px 1px 2px rgba(60, 64, 67, 0.3), 0px 1px 3px 1px rgba(60, 64, 67, 0.15);\n",
              "      fill: #174EA6;\n",
              "    }\n",
              "\n",
              "    [theme=dark] .colab-df-convert {\n",
              "      background-color: #3B4455;\n",
              "      fill: #D2E3FC;\n",
              "    }\n",
              "\n",
              "    [theme=dark] .colab-df-convert:hover {\n",
              "      background-color: #434B5C;\n",
              "      box-shadow: 0px 1px 3px 1px rgba(0, 0, 0, 0.15);\n",
              "      filter: drop-shadow(0px 1px 2px rgba(0, 0, 0, 0.3));\n",
              "      fill: #FFFFFF;\n",
              "    }\n",
              "  </style>\n",
              "\n",
              "      <script>\n",
              "        const buttonEl =\n",
              "          document.querySelector('#df-b8d95610-e583-45b7-b3bd-510fb4387df9 button.colab-df-convert');\n",
              "        buttonEl.style.display =\n",
              "          google.colab.kernel.accessAllowed ? 'block' : 'none';\n",
              "\n",
              "        async function convertToInteractive(key) {\n",
              "          const element = document.querySelector('#df-b8d95610-e583-45b7-b3bd-510fb4387df9');\n",
              "          const dataTable =\n",
              "            await google.colab.kernel.invokeFunction('convertToInteractive',\n",
              "                                                     [key], {});\n",
              "          if (!dataTable) return;\n",
              "\n",
              "          const docLinkHtml = 'Like what you see? Visit the ' +\n",
              "            '<a target=\"_blank\" href=https://colab.research.google.com/notebooks/data_table.ipynb>data table notebook</a>'\n",
              "            + ' to learn more about interactive tables.';\n",
              "          element.innerHTML = '';\n",
              "          dataTable['output_type'] = 'display_data';\n",
              "          await google.colab.output.renderOutput(dataTable, element);\n",
              "          const docLink = document.createElement('div');\n",
              "          docLink.innerHTML = docLinkHtml;\n",
              "          element.appendChild(docLink);\n",
              "        }\n",
              "      </script>\n",
              "    </div>\n",
              "  </div>\n",
              "  "
            ]
          },
          "metadata": {},
          "execution_count": 11
        }
      ],
      "source": [
        "income_death.corr()"
      ]
    },
    {
      "cell_type": "code",
      "execution_count": 12,
      "id": "b4695c45",
      "metadata": {
        "id": "b4695c45",
        "colab": {
          "base_uri": "https://localhost:8080/",
          "height": 206
        },
        "outputId": "946ef3d5-a05c-4f38-fc13-32ab84dc27c5"
      },
      "outputs": [
        {
          "output_type": "execute_result",
          "data": {
            "text/plain": [
              "                             County  Median_Income  \\\n",
              "0  Abbeville County, South Carolina   43326.849462   \n",
              "1          Acadia Parish, Louisiana   42345.339623   \n",
              "2         Accomack County, Virginia   65267.573826   \n",
              "3                 Ada County, Idaho   45272.370370   \n",
              "4                Adair County, Iowa   53179.632258   \n",
              "\n",
              "   Age-Adjusted Incidence Rate  Average Annual Count  \n",
              "0                         68.1                    24  \n",
              "1                         79.6                    53  \n",
              "2                         91.1                    46  \n",
              "3                         52.2                   191  \n",
              "4                         65.2                     8  "
            ],
            "text/html": [
              "\n",
              "  <div id=\"df-1b7de110-9c20-4531-a256-0e62bbc14334\">\n",
              "    <div class=\"colab-df-container\">\n",
              "      <div>\n",
              "<style scoped>\n",
              "    .dataframe tbody tr th:only-of-type {\n",
              "        vertical-align: middle;\n",
              "    }\n",
              "\n",
              "    .dataframe tbody tr th {\n",
              "        vertical-align: top;\n",
              "    }\n",
              "\n",
              "    .dataframe thead th {\n",
              "        text-align: right;\n",
              "    }\n",
              "</style>\n",
              "<table border=\"1\" class=\"dataframe\">\n",
              "  <thead>\n",
              "    <tr style=\"text-align: right;\">\n",
              "      <th></th>\n",
              "      <th>County</th>\n",
              "      <th>Median_Income</th>\n",
              "      <th>Age-Adjusted Incidence Rate</th>\n",
              "      <th>Average Annual Count</th>\n",
              "    </tr>\n",
              "  </thead>\n",
              "  <tbody>\n",
              "    <tr>\n",
              "      <th>0</th>\n",
              "      <td>Abbeville County, South Carolina</td>\n",
              "      <td>43326.849462</td>\n",
              "      <td>68.1</td>\n",
              "      <td>24</td>\n",
              "    </tr>\n",
              "    <tr>\n",
              "      <th>1</th>\n",
              "      <td>Acadia Parish, Louisiana</td>\n",
              "      <td>42345.339623</td>\n",
              "      <td>79.6</td>\n",
              "      <td>53</td>\n",
              "    </tr>\n",
              "    <tr>\n",
              "      <th>2</th>\n",
              "      <td>Accomack County, Virginia</td>\n",
              "      <td>65267.573826</td>\n",
              "      <td>91.1</td>\n",
              "      <td>46</td>\n",
              "    </tr>\n",
              "    <tr>\n",
              "      <th>3</th>\n",
              "      <td>Ada County, Idaho</td>\n",
              "      <td>45272.370370</td>\n",
              "      <td>52.2</td>\n",
              "      <td>191</td>\n",
              "    </tr>\n",
              "    <tr>\n",
              "      <th>4</th>\n",
              "      <td>Adair County, Iowa</td>\n",
              "      <td>53179.632258</td>\n",
              "      <td>65.2</td>\n",
              "      <td>8</td>\n",
              "    </tr>\n",
              "  </tbody>\n",
              "</table>\n",
              "</div>\n",
              "      <button class=\"colab-df-convert\" onclick=\"convertToInteractive('df-1b7de110-9c20-4531-a256-0e62bbc14334')\"\n",
              "              title=\"Convert this dataframe to an interactive table.\"\n",
              "              style=\"display:none;\">\n",
              "        \n",
              "  <svg xmlns=\"http://www.w3.org/2000/svg\" height=\"24px\"viewBox=\"0 0 24 24\"\n",
              "       width=\"24px\">\n",
              "    <path d=\"M0 0h24v24H0V0z\" fill=\"none\"/>\n",
              "    <path d=\"M18.56 5.44l.94 2.06.94-2.06 2.06-.94-2.06-.94-.94-2.06-.94 2.06-2.06.94zm-11 1L8.5 8.5l.94-2.06 2.06-.94-2.06-.94L8.5 2.5l-.94 2.06-2.06.94zm10 10l.94 2.06.94-2.06 2.06-.94-2.06-.94-.94-2.06-.94 2.06-2.06.94z\"/><path d=\"M17.41 7.96l-1.37-1.37c-.4-.4-.92-.59-1.43-.59-.52 0-1.04.2-1.43.59L10.3 9.45l-7.72 7.72c-.78.78-.78 2.05 0 2.83L4 21.41c.39.39.9.59 1.41.59.51 0 1.02-.2 1.41-.59l7.78-7.78 2.81-2.81c.8-.78.8-2.07 0-2.86zM5.41 20L4 18.59l7.72-7.72 1.47 1.35L5.41 20z\"/>\n",
              "  </svg>\n",
              "      </button>\n",
              "      \n",
              "  <style>\n",
              "    .colab-df-container {\n",
              "      display:flex;\n",
              "      flex-wrap:wrap;\n",
              "      gap: 12px;\n",
              "    }\n",
              "\n",
              "    .colab-df-convert {\n",
              "      background-color: #E8F0FE;\n",
              "      border: none;\n",
              "      border-radius: 50%;\n",
              "      cursor: pointer;\n",
              "      display: none;\n",
              "      fill: #1967D2;\n",
              "      height: 32px;\n",
              "      padding: 0 0 0 0;\n",
              "      width: 32px;\n",
              "    }\n",
              "\n",
              "    .colab-df-convert:hover {\n",
              "      background-color: #E2EBFA;\n",
              "      box-shadow: 0px 1px 2px rgba(60, 64, 67, 0.3), 0px 1px 3px 1px rgba(60, 64, 67, 0.15);\n",
              "      fill: #174EA6;\n",
              "    }\n",
              "\n",
              "    [theme=dark] .colab-df-convert {\n",
              "      background-color: #3B4455;\n",
              "      fill: #D2E3FC;\n",
              "    }\n",
              "\n",
              "    [theme=dark] .colab-df-convert:hover {\n",
              "      background-color: #434B5C;\n",
              "      box-shadow: 0px 1px 3px 1px rgba(0, 0, 0, 0.15);\n",
              "      filter: drop-shadow(0px 1px 2px rgba(0, 0, 0, 0.3));\n",
              "      fill: #FFFFFF;\n",
              "    }\n",
              "  </style>\n",
              "\n",
              "      <script>\n",
              "        const buttonEl =\n",
              "          document.querySelector('#df-1b7de110-9c20-4531-a256-0e62bbc14334 button.colab-df-convert');\n",
              "        buttonEl.style.display =\n",
              "          google.colab.kernel.accessAllowed ? 'block' : 'none';\n",
              "\n",
              "        async function convertToInteractive(key) {\n",
              "          const element = document.querySelector('#df-1b7de110-9c20-4531-a256-0e62bbc14334');\n",
              "          const dataTable =\n",
              "            await google.colab.kernel.invokeFunction('convertToInteractive',\n",
              "                                                     [key], {});\n",
              "          if (!dataTable) return;\n",
              "\n",
              "          const docLinkHtml = 'Like what you see? Visit the ' +\n",
              "            '<a target=\"_blank\" href=https://colab.research.google.com/notebooks/data_table.ipynb>data table notebook</a>'\n",
              "            + ' to learn more about interactive tables.';\n",
              "          element.innerHTML = '';\n",
              "          dataTable['output_type'] = 'display_data';\n",
              "          await google.colab.output.renderOutput(dataTable, element);\n",
              "          const docLink = document.createElement('div');\n",
              "          docLink.innerHTML = docLinkHtml;\n",
              "          element.appendChild(docLink);\n",
              "        }\n",
              "      </script>\n",
              "    </div>\n",
              "  </div>\n",
              "  "
            ]
          },
          "metadata": {},
          "execution_count": 12
        }
      ],
      "source": [
        "income_incident.head()"
      ]
    },
    {
      "cell_type": "code",
      "execution_count": 13,
      "id": "788980a2",
      "metadata": {
        "id": "788980a2"
      },
      "outputs": [],
      "source": [
        "income_incident = income_incident.drop('County',axis=1)"
      ]
    },
    {
      "cell_type": "code",
      "execution_count": 14,
      "id": "cd3444d0",
      "metadata": {
        "id": "cd3444d0",
        "colab": {
          "base_uri": "https://localhost:8080/",
          "height": 206
        },
        "outputId": "261320be-e309-4d34-b092-2d7995fefa79"
      },
      "outputs": [
        {
          "output_type": "execute_result",
          "data": {
            "text/plain": [
              "                             Median_Income_x  Age-Adjusted Incidence Rate  \\\n",
              "Median_Income_x                     1.000000                    -0.309317   \n",
              "Age-Adjusted Incidence Rate        -0.309317                     1.000000   \n",
              "Average Annual Count                0.352895                    -0.110913   \n",
              "Age-Adjusted Death Rate            -0.360187                     0.891397   \n",
              "Average Deaths per Year             0.342245                    -0.111130   \n",
              "\n",
              "                             Average Annual Count  Age-Adjusted Death Rate  \\\n",
              "Median_Income_x                          0.352895                -0.360187   \n",
              "Age-Adjusted Incidence Rate             -0.110913                 0.891397   \n",
              "Average Annual Count                     1.000000                -0.164815   \n",
              "Age-Adjusted Death Rate                 -0.164815                 1.000000   \n",
              "Average Deaths per Year                  0.997886                -0.155333   \n",
              "\n",
              "                             Average Deaths per Year  \n",
              "Median_Income_x                             0.342245  \n",
              "Age-Adjusted Incidence Rate                -0.111130  \n",
              "Average Annual Count                        0.997886  \n",
              "Age-Adjusted Death Rate                    -0.155333  \n",
              "Average Deaths per Year                     1.000000  "
            ],
            "text/html": [
              "\n",
              "  <div id=\"df-3bb0911e-642c-4fd4-a371-8813b3e945ed\">\n",
              "    <div class=\"colab-df-container\">\n",
              "      <div>\n",
              "<style scoped>\n",
              "    .dataframe tbody tr th:only-of-type {\n",
              "        vertical-align: middle;\n",
              "    }\n",
              "\n",
              "    .dataframe tbody tr th {\n",
              "        vertical-align: top;\n",
              "    }\n",
              "\n",
              "    .dataframe thead th {\n",
              "        text-align: right;\n",
              "    }\n",
              "</style>\n",
              "<table border=\"1\" class=\"dataframe\">\n",
              "  <thead>\n",
              "    <tr style=\"text-align: right;\">\n",
              "      <th></th>\n",
              "      <th>Median_Income_x</th>\n",
              "      <th>Age-Adjusted Incidence Rate</th>\n",
              "      <th>Average Annual Count</th>\n",
              "      <th>Age-Adjusted Death Rate</th>\n",
              "      <th>Average Deaths per Year</th>\n",
              "    </tr>\n",
              "  </thead>\n",
              "  <tbody>\n",
              "    <tr>\n",
              "      <th>Median_Income_x</th>\n",
              "      <td>1.000000</td>\n",
              "      <td>-0.309317</td>\n",
              "      <td>0.352895</td>\n",
              "      <td>-0.360187</td>\n",
              "      <td>0.342245</td>\n",
              "    </tr>\n",
              "    <tr>\n",
              "      <th>Age-Adjusted Incidence Rate</th>\n",
              "      <td>-0.309317</td>\n",
              "      <td>1.000000</td>\n",
              "      <td>-0.110913</td>\n",
              "      <td>0.891397</td>\n",
              "      <td>-0.111130</td>\n",
              "    </tr>\n",
              "    <tr>\n",
              "      <th>Average Annual Count</th>\n",
              "      <td>0.352895</td>\n",
              "      <td>-0.110913</td>\n",
              "      <td>1.000000</td>\n",
              "      <td>-0.164815</td>\n",
              "      <td>0.997886</td>\n",
              "    </tr>\n",
              "    <tr>\n",
              "      <th>Age-Adjusted Death Rate</th>\n",
              "      <td>-0.360187</td>\n",
              "      <td>0.891397</td>\n",
              "      <td>-0.164815</td>\n",
              "      <td>1.000000</td>\n",
              "      <td>-0.155333</td>\n",
              "    </tr>\n",
              "    <tr>\n",
              "      <th>Average Deaths per Year</th>\n",
              "      <td>0.342245</td>\n",
              "      <td>-0.111130</td>\n",
              "      <td>0.997886</td>\n",
              "      <td>-0.155333</td>\n",
              "      <td>1.000000</td>\n",
              "    </tr>\n",
              "  </tbody>\n",
              "</table>\n",
              "</div>\n",
              "      <button class=\"colab-df-convert\" onclick=\"convertToInteractive('df-3bb0911e-642c-4fd4-a371-8813b3e945ed')\"\n",
              "              title=\"Convert this dataframe to an interactive table.\"\n",
              "              style=\"display:none;\">\n",
              "        \n",
              "  <svg xmlns=\"http://www.w3.org/2000/svg\" height=\"24px\"viewBox=\"0 0 24 24\"\n",
              "       width=\"24px\">\n",
              "    <path d=\"M0 0h24v24H0V0z\" fill=\"none\"/>\n",
              "    <path d=\"M18.56 5.44l.94 2.06.94-2.06 2.06-.94-2.06-.94-.94-2.06-.94 2.06-2.06.94zm-11 1L8.5 8.5l.94-2.06 2.06-.94-2.06-.94L8.5 2.5l-.94 2.06-2.06.94zm10 10l.94 2.06.94-2.06 2.06-.94-2.06-.94-.94-2.06-.94 2.06-2.06.94z\"/><path d=\"M17.41 7.96l-1.37-1.37c-.4-.4-.92-.59-1.43-.59-.52 0-1.04.2-1.43.59L10.3 9.45l-7.72 7.72c-.78.78-.78 2.05 0 2.83L4 21.41c.39.39.9.59 1.41.59.51 0 1.02-.2 1.41-.59l7.78-7.78 2.81-2.81c.8-.78.8-2.07 0-2.86zM5.41 20L4 18.59l7.72-7.72 1.47 1.35L5.41 20z\"/>\n",
              "  </svg>\n",
              "      </button>\n",
              "      \n",
              "  <style>\n",
              "    .colab-df-container {\n",
              "      display:flex;\n",
              "      flex-wrap:wrap;\n",
              "      gap: 12px;\n",
              "    }\n",
              "\n",
              "    .colab-df-convert {\n",
              "      background-color: #E8F0FE;\n",
              "      border: none;\n",
              "      border-radius: 50%;\n",
              "      cursor: pointer;\n",
              "      display: none;\n",
              "      fill: #1967D2;\n",
              "      height: 32px;\n",
              "      padding: 0 0 0 0;\n",
              "      width: 32px;\n",
              "    }\n",
              "\n",
              "    .colab-df-convert:hover {\n",
              "      background-color: #E2EBFA;\n",
              "      box-shadow: 0px 1px 2px rgba(60, 64, 67, 0.3), 0px 1px 3px 1px rgba(60, 64, 67, 0.15);\n",
              "      fill: #174EA6;\n",
              "    }\n",
              "\n",
              "    [theme=dark] .colab-df-convert {\n",
              "      background-color: #3B4455;\n",
              "      fill: #D2E3FC;\n",
              "    }\n",
              "\n",
              "    [theme=dark] .colab-df-convert:hover {\n",
              "      background-color: #434B5C;\n",
              "      box-shadow: 0px 1px 3px 1px rgba(0, 0, 0, 0.15);\n",
              "      filter: drop-shadow(0px 1px 2px rgba(0, 0, 0, 0.3));\n",
              "      fill: #FFFFFF;\n",
              "    }\n",
              "  </style>\n",
              "\n",
              "      <script>\n",
              "        const buttonEl =\n",
              "          document.querySelector('#df-3bb0911e-642c-4fd4-a371-8813b3e945ed button.colab-df-convert');\n",
              "        buttonEl.style.display =\n",
              "          google.colab.kernel.accessAllowed ? 'block' : 'none';\n",
              "\n",
              "        async function convertToInteractive(key) {\n",
              "          const element = document.querySelector('#df-3bb0911e-642c-4fd4-a371-8813b3e945ed');\n",
              "          const dataTable =\n",
              "            await google.colab.kernel.invokeFunction('convertToInteractive',\n",
              "                                                     [key], {});\n",
              "          if (!dataTable) return;\n",
              "\n",
              "          const docLinkHtml = 'Like what you see? Visit the ' +\n",
              "            '<a target=\"_blank\" href=https://colab.research.google.com/notebooks/data_table.ipynb>data table notebook</a>'\n",
              "            + ' to learn more about interactive tables.';\n",
              "          element.innerHTML = '';\n",
              "          dataTable['output_type'] = 'display_data';\n",
              "          await google.colab.output.renderOutput(dataTable, element);\n",
              "          const docLink = document.createElement('div');\n",
              "          docLink.innerHTML = docLinkHtml;\n",
              "          element.appendChild(docLink);\n",
              "        }\n",
              "      </script>\n",
              "    </div>\n",
              "  </div>\n",
              "  "
            ]
          },
          "metadata": {},
          "execution_count": 14
        }
      ],
      "source": [
        "incident_death.corr()                                                                                                                             "
      ]
    },
    {
      "cell_type": "markdown",
      "source": [
        "### COUNTY DATA"
      ],
      "metadata": {
        "id": "uiSS2QerDRPj"
      },
      "id": "uiSS2QerDRPj"
    },
    {
      "cell_type": "markdown",
      "source": [
        "### Input County name as 'County, State' ex: King County, Washington"
      ],
      "metadata": {
        "id": "gMJpTrisDHFN"
      },
      "id": "gMJpTrisDHFN"
    },
    {
      "cell_type": "code",
      "source": [
        "x = input(\"County name: \")\n",
        "incident_death.loc[incident_death['County'] == x]\n"
      ],
      "metadata": {
        "colab": {
          "base_uri": "https://localhost:8080/",
          "height": 98
        },
        "id": "bgIeFWWufsa_",
        "outputId": "f693ba35-8d62-46eb-a42e-194a8b2b2bb6"
      },
      "id": "bgIeFWWufsa_",
      "execution_count": 15,
      "outputs": [
        {
          "name": "stdout",
          "output_type": "stream",
          "text": [
            "County name: King County, Washington\n"
          ]
        },
        {
          "output_type": "execute_result",
          "data": {
            "text/plain": [
              "                      County  Median_Income_x  Age-Adjusted Incidence Rate  \\\n",
              "580  King County, Washington          81556.2                         51.8   \n",
              "\n",
              "     Average Annual Count  Age-Adjusted Death Rate  Average Deaths per Year  \n",
              "580                   972                     36.4                      681  "
            ],
            "text/html": [
              "\n",
              "  <div id=\"df-23eced7d-64d1-4e5d-979d-ee6b854b2069\">\n",
              "    <div class=\"colab-df-container\">\n",
              "      <div>\n",
              "<style scoped>\n",
              "    .dataframe tbody tr th:only-of-type {\n",
              "        vertical-align: middle;\n",
              "    }\n",
              "\n",
              "    .dataframe tbody tr th {\n",
              "        vertical-align: top;\n",
              "    }\n",
              "\n",
              "    .dataframe thead th {\n",
              "        text-align: right;\n",
              "    }\n",
              "</style>\n",
              "<table border=\"1\" class=\"dataframe\">\n",
              "  <thead>\n",
              "    <tr style=\"text-align: right;\">\n",
              "      <th></th>\n",
              "      <th>County</th>\n",
              "      <th>Median_Income_x</th>\n",
              "      <th>Age-Adjusted Incidence Rate</th>\n",
              "      <th>Average Annual Count</th>\n",
              "      <th>Age-Adjusted Death Rate</th>\n",
              "      <th>Average Deaths per Year</th>\n",
              "    </tr>\n",
              "  </thead>\n",
              "  <tbody>\n",
              "    <tr>\n",
              "      <th>580</th>\n",
              "      <td>King County, Washington</td>\n",
              "      <td>81556.2</td>\n",
              "      <td>51.8</td>\n",
              "      <td>972</td>\n",
              "      <td>36.4</td>\n",
              "      <td>681</td>\n",
              "    </tr>\n",
              "  </tbody>\n",
              "</table>\n",
              "</div>\n",
              "      <button class=\"colab-df-convert\" onclick=\"convertToInteractive('df-23eced7d-64d1-4e5d-979d-ee6b854b2069')\"\n",
              "              title=\"Convert this dataframe to an interactive table.\"\n",
              "              style=\"display:none;\">\n",
              "        \n",
              "  <svg xmlns=\"http://www.w3.org/2000/svg\" height=\"24px\"viewBox=\"0 0 24 24\"\n",
              "       width=\"24px\">\n",
              "    <path d=\"M0 0h24v24H0V0z\" fill=\"none\"/>\n",
              "    <path d=\"M18.56 5.44l.94 2.06.94-2.06 2.06-.94-2.06-.94-.94-2.06-.94 2.06-2.06.94zm-11 1L8.5 8.5l.94-2.06 2.06-.94-2.06-.94L8.5 2.5l-.94 2.06-2.06.94zm10 10l.94 2.06.94-2.06 2.06-.94-2.06-.94-.94-2.06-.94 2.06-2.06.94z\"/><path d=\"M17.41 7.96l-1.37-1.37c-.4-.4-.92-.59-1.43-.59-.52 0-1.04.2-1.43.59L10.3 9.45l-7.72 7.72c-.78.78-.78 2.05 0 2.83L4 21.41c.39.39.9.59 1.41.59.51 0 1.02-.2 1.41-.59l7.78-7.78 2.81-2.81c.8-.78.8-2.07 0-2.86zM5.41 20L4 18.59l7.72-7.72 1.47 1.35L5.41 20z\"/>\n",
              "  </svg>\n",
              "      </button>\n",
              "      \n",
              "  <style>\n",
              "    .colab-df-container {\n",
              "      display:flex;\n",
              "      flex-wrap:wrap;\n",
              "      gap: 12px;\n",
              "    }\n",
              "\n",
              "    .colab-df-convert {\n",
              "      background-color: #E8F0FE;\n",
              "      border: none;\n",
              "      border-radius: 50%;\n",
              "      cursor: pointer;\n",
              "      display: none;\n",
              "      fill: #1967D2;\n",
              "      height: 32px;\n",
              "      padding: 0 0 0 0;\n",
              "      width: 32px;\n",
              "    }\n",
              "\n",
              "    .colab-df-convert:hover {\n",
              "      background-color: #E2EBFA;\n",
              "      box-shadow: 0px 1px 2px rgba(60, 64, 67, 0.3), 0px 1px 3px 1px rgba(60, 64, 67, 0.15);\n",
              "      fill: #174EA6;\n",
              "    }\n",
              "\n",
              "    [theme=dark] .colab-df-convert {\n",
              "      background-color: #3B4455;\n",
              "      fill: #D2E3FC;\n",
              "    }\n",
              "\n",
              "    [theme=dark] .colab-df-convert:hover {\n",
              "      background-color: #434B5C;\n",
              "      box-shadow: 0px 1px 3px 1px rgba(0, 0, 0, 0.15);\n",
              "      filter: drop-shadow(0px 1px 2px rgba(0, 0, 0, 0.3));\n",
              "      fill: #FFFFFF;\n",
              "    }\n",
              "  </style>\n",
              "\n",
              "      <script>\n",
              "        const buttonEl =\n",
              "          document.querySelector('#df-23eced7d-64d1-4e5d-979d-ee6b854b2069 button.colab-df-convert');\n",
              "        buttonEl.style.display =\n",
              "          google.colab.kernel.accessAllowed ? 'block' : 'none';\n",
              "\n",
              "        async function convertToInteractive(key) {\n",
              "          const element = document.querySelector('#df-23eced7d-64d1-4e5d-979d-ee6b854b2069');\n",
              "          const dataTable =\n",
              "            await google.colab.kernel.invokeFunction('convertToInteractive',\n",
              "                                                     [key], {});\n",
              "          if (!dataTable) return;\n",
              "\n",
              "          const docLinkHtml = 'Like what you see? Visit the ' +\n",
              "            '<a target=\"_blank\" href=https://colab.research.google.com/notebooks/data_table.ipynb>data table notebook</a>'\n",
              "            + ' to learn more about interactive tables.';\n",
              "          element.innerHTML = '';\n",
              "          dataTable['output_type'] = 'display_data';\n",
              "          await google.colab.output.renderOutput(dataTable, element);\n",
              "          const docLink = document.createElement('div');\n",
              "          docLink.innerHTML = docLinkHtml;\n",
              "          element.appendChild(docLink);\n",
              "        }\n",
              "      </script>\n",
              "    </div>\n",
              "  </div>\n",
              "  "
            ]
          },
          "metadata": {},
          "execution_count": 15
        }
      ]
    },
    {
      "cell_type": "code",
      "source": [
        "input = incident_death.loc[incident_death['County'] == x ]"
      ],
      "metadata": {
        "id": "C9qm9-AR5G06"
      },
      "id": "C9qm9-AR5G06",
      "execution_count": 16,
      "outputs": []
    },
    {
      "cell_type": "code",
      "source": [
        "input"
      ],
      "metadata": {
        "colab": {
          "base_uri": "https://localhost:8080/",
          "height": 80
        },
        "id": "5oprMy-VG2VV",
        "outputId": "f0ae18e5-3afe-4a34-bcdc-a49a70f74ada"
      },
      "id": "5oprMy-VG2VV",
      "execution_count": 17,
      "outputs": [
        {
          "output_type": "execute_result",
          "data": {
            "text/plain": [
              "                      County  Median_Income_x  Age-Adjusted Incidence Rate  \\\n",
              "580  King County, Washington          81556.2                         51.8   \n",
              "\n",
              "     Average Annual Count  Age-Adjusted Death Rate  Average Deaths per Year  \n",
              "580                   972                     36.4                      681  "
            ],
            "text/html": [
              "\n",
              "  <div id=\"df-87272d89-6ab2-4492-af6e-225e61be6da4\">\n",
              "    <div class=\"colab-df-container\">\n",
              "      <div>\n",
              "<style scoped>\n",
              "    .dataframe tbody tr th:only-of-type {\n",
              "        vertical-align: middle;\n",
              "    }\n",
              "\n",
              "    .dataframe tbody tr th {\n",
              "        vertical-align: top;\n",
              "    }\n",
              "\n",
              "    .dataframe thead th {\n",
              "        text-align: right;\n",
              "    }\n",
              "</style>\n",
              "<table border=\"1\" class=\"dataframe\">\n",
              "  <thead>\n",
              "    <tr style=\"text-align: right;\">\n",
              "      <th></th>\n",
              "      <th>County</th>\n",
              "      <th>Median_Income_x</th>\n",
              "      <th>Age-Adjusted Incidence Rate</th>\n",
              "      <th>Average Annual Count</th>\n",
              "      <th>Age-Adjusted Death Rate</th>\n",
              "      <th>Average Deaths per Year</th>\n",
              "    </tr>\n",
              "  </thead>\n",
              "  <tbody>\n",
              "    <tr>\n",
              "      <th>580</th>\n",
              "      <td>King County, Washington</td>\n",
              "      <td>81556.2</td>\n",
              "      <td>51.8</td>\n",
              "      <td>972</td>\n",
              "      <td>36.4</td>\n",
              "      <td>681</td>\n",
              "    </tr>\n",
              "  </tbody>\n",
              "</table>\n",
              "</div>\n",
              "      <button class=\"colab-df-convert\" onclick=\"convertToInteractive('df-87272d89-6ab2-4492-af6e-225e61be6da4')\"\n",
              "              title=\"Convert this dataframe to an interactive table.\"\n",
              "              style=\"display:none;\">\n",
              "        \n",
              "  <svg xmlns=\"http://www.w3.org/2000/svg\" height=\"24px\"viewBox=\"0 0 24 24\"\n",
              "       width=\"24px\">\n",
              "    <path d=\"M0 0h24v24H0V0z\" fill=\"none\"/>\n",
              "    <path d=\"M18.56 5.44l.94 2.06.94-2.06 2.06-.94-2.06-.94-.94-2.06-.94 2.06-2.06.94zm-11 1L8.5 8.5l.94-2.06 2.06-.94-2.06-.94L8.5 2.5l-.94 2.06-2.06.94zm10 10l.94 2.06.94-2.06 2.06-.94-2.06-.94-.94-2.06-.94 2.06-2.06.94z\"/><path d=\"M17.41 7.96l-1.37-1.37c-.4-.4-.92-.59-1.43-.59-.52 0-1.04.2-1.43.59L10.3 9.45l-7.72 7.72c-.78.78-.78 2.05 0 2.83L4 21.41c.39.39.9.59 1.41.59.51 0 1.02-.2 1.41-.59l7.78-7.78 2.81-2.81c.8-.78.8-2.07 0-2.86zM5.41 20L4 18.59l7.72-7.72 1.47 1.35L5.41 20z\"/>\n",
              "  </svg>\n",
              "      </button>\n",
              "      \n",
              "  <style>\n",
              "    .colab-df-container {\n",
              "      display:flex;\n",
              "      flex-wrap:wrap;\n",
              "      gap: 12px;\n",
              "    }\n",
              "\n",
              "    .colab-df-convert {\n",
              "      background-color: #E8F0FE;\n",
              "      border: none;\n",
              "      border-radius: 50%;\n",
              "      cursor: pointer;\n",
              "      display: none;\n",
              "      fill: #1967D2;\n",
              "      height: 32px;\n",
              "      padding: 0 0 0 0;\n",
              "      width: 32px;\n",
              "    }\n",
              "\n",
              "    .colab-df-convert:hover {\n",
              "      background-color: #E2EBFA;\n",
              "      box-shadow: 0px 1px 2px rgba(60, 64, 67, 0.3), 0px 1px 3px 1px rgba(60, 64, 67, 0.15);\n",
              "      fill: #174EA6;\n",
              "    }\n",
              "\n",
              "    [theme=dark] .colab-df-convert {\n",
              "      background-color: #3B4455;\n",
              "      fill: #D2E3FC;\n",
              "    }\n",
              "\n",
              "    [theme=dark] .colab-df-convert:hover {\n",
              "      background-color: #434B5C;\n",
              "      box-shadow: 0px 1px 3px 1px rgba(0, 0, 0, 0.15);\n",
              "      filter: drop-shadow(0px 1px 2px rgba(0, 0, 0, 0.3));\n",
              "      fill: #FFFFFF;\n",
              "    }\n",
              "  </style>\n",
              "\n",
              "      <script>\n",
              "        const buttonEl =\n",
              "          document.querySelector('#df-87272d89-6ab2-4492-af6e-225e61be6da4 button.colab-df-convert');\n",
              "        buttonEl.style.display =\n",
              "          google.colab.kernel.accessAllowed ? 'block' : 'none';\n",
              "\n",
              "        async function convertToInteractive(key) {\n",
              "          const element = document.querySelector('#df-87272d89-6ab2-4492-af6e-225e61be6da4');\n",
              "          const dataTable =\n",
              "            await google.colab.kernel.invokeFunction('convertToInteractive',\n",
              "                                                     [key], {});\n",
              "          if (!dataTable) return;\n",
              "\n",
              "          const docLinkHtml = 'Like what you see? Visit the ' +\n",
              "            '<a target=\"_blank\" href=https://colab.research.google.com/notebooks/data_table.ipynb>data table notebook</a>'\n",
              "            + ' to learn more about interactive tables.';\n",
              "          element.innerHTML = '';\n",
              "          dataTable['output_type'] = 'display_data';\n",
              "          await google.colab.output.renderOutput(dataTable, element);\n",
              "          const docLink = document.createElement('div');\n",
              "          docLink.innerHTML = docLinkHtml;\n",
              "          element.appendChild(docLink);\n",
              "        }\n",
              "      </script>\n",
              "    </div>\n",
              "  </div>\n",
              "  "
            ]
          },
          "metadata": {},
          "execution_count": 17
        }
      ]
    },
    {
      "cell_type": "code",
      "execution_count": 18,
      "id": "f1faa5fd",
      "metadata": {
        "id": "f1faa5fd"
      },
      "outputs": [],
      "source": [
        "incident_death = incident_death.drop('County',axis=1)"
      ]
    },
    {
      "cell_type": "markdown",
      "source": [
        "## Machine Learning Section"
      ],
      "metadata": {
        "id": "z-dX7s4CkvUz"
      },
      "id": "z-dX7s4CkvUz"
    },
    {
      "cell_type": "markdown",
      "id": "33871553",
      "metadata": {
        "id": "33871553"
      },
      "source": [
        "Define x and y"
      ]
    },
    {
      "cell_type": "code",
      "execution_count": 19,
      "id": "722e0409",
      "metadata": {
        "id": "722e0409"
      },
      "outputs": [],
      "source": [
        "# Independent Variable x and Dependent Variable y"
      ]
    },
    {
      "cell_type": "code",
      "execution_count": 20,
      "id": "76efd5fe",
      "metadata": {
        "id": "76efd5fe"
      },
      "outputs": [],
      "source": [
        "x=incident_death.drop(['Age-Adjusted Death Rate'],axis=1).values"
      ]
    },
    {
      "cell_type": "code",
      "execution_count": 21,
      "id": "a6d1a6fa",
      "metadata": {
        "id": "a6d1a6fa"
      },
      "outputs": [],
      "source": [
        "y=incident_death['Age-Adjusted Death Rate'].values"
      ]
    },
    {
      "cell_type": "code",
      "execution_count": 22,
      "id": "18e6ccf5",
      "metadata": {
        "id": "18e6ccf5",
        "colab": {
          "base_uri": "https://localhost:8080/"
        },
        "outputId": "6b8099fc-3d61-45cd-eb00-c1d0b1ef6b7f"
      },
      "outputs": [
        {
          "output_type": "stream",
          "name": "stdout",
          "text": [
            "[[4.33268495e+04 6.81000000e+01 2.40000000e+01 2.00000000e+01]\n",
            " [4.23453396e+04 7.96000000e+01 5.30000000e+01 4.60000000e+01]\n",
            " [6.52675738e+04 9.11000000e+01 4.60000000e+01 3.80000000e+01]\n",
            " ...\n",
            " [3.67720000e+04 7.42000000e+01 2.00000000e+01 1.60000000e+01]\n",
            " [4.68880000e+04 6.81000000e+01 4.40000000e+01 3.50000000e+01]\n",
            " [3.74530000e+04 6.25000000e+01 8.00000000e+00 5.00000000e+00]]\n"
          ]
        }
      ],
      "source": [
        "print(x)"
      ]
    },
    {
      "cell_type": "code",
      "execution_count": 23,
      "id": "1f1428b6",
      "metadata": {
        "id": "1f1428b6",
        "colab": {
          "base_uri": "https://localhost:8080/"
        },
        "outputId": "7e69002a-172d-4ccd-fd12-dba3326bbfe0"
      },
      "outputs": [
        {
          "output_type": "stream",
          "name": "stdout",
          "text": [
            "[57.6 68.6 76.7 ... 60.2 55.3 40.3]\n"
          ]
        }
      ],
      "source": [
        "print(y)"
      ]
    },
    {
      "cell_type": "markdown",
      "id": "9835045a",
      "metadata": {
        "id": "9835045a"
      },
      "source": [
        "Split the dataset in training set and test set"
      ]
    },
    {
      "cell_type": "code",
      "execution_count": 24,
      "id": "1db8a122",
      "metadata": {
        "id": "1db8a122"
      },
      "outputs": [],
      "source": [
        "from sklearn.model_selection import train_test_split\n",
        "x_train,x_test,y_train,y_test = train_test_split(x,y, test_size=0.3,random_state=0)"
      ]
    },
    {
      "cell_type": "markdown",
      "id": "56b66859",
      "metadata": {
        "id": "56b66859"
      },
      "source": [
        "Train the model on the training set"
      ]
    },
    {
      "cell_type": "code",
      "execution_count": 25,
      "id": "c77c6815",
      "metadata": {
        "id": "c77c6815",
        "colab": {
          "base_uri": "https://localhost:8080/"
        },
        "outputId": "665866a3-0552-4e52-d9b5-f9a50b06cf2b"
      },
      "outputs": [
        {
          "output_type": "execute_result",
          "data": {
            "text/plain": [
              "LinearRegression()"
            ]
          },
          "metadata": {},
          "execution_count": 25
        }
      ],
      "source": [
        "from sklearn.linear_model import LinearRegression\n",
        "ml = LinearRegression()\n",
        "ml.fit(x_train,y_train)"
      ]
    },
    {
      "cell_type": "markdown",
      "id": "e2c2b685",
      "metadata": {
        "id": "e2c2b685"
      },
      "source": [
        "Predict the test set results"
      ]
    },
    {
      "cell_type": "code",
      "execution_count": 26,
      "id": "92299a97",
      "metadata": {
        "id": "92299a97",
        "colab": {
          "base_uri": "https://localhost:8080/"
        },
        "outputId": "af72afdd-2e4a-43ea-f7a3-b170414c4147"
      },
      "outputs": [
        {
          "output_type": "stream",
          "name": "stdout",
          "text": [
            "[ 68.19227745  53.93409299  58.56050527  42.38878319  49.75746138\n",
            "  45.74910689  52.50345744  40.24044869  31.63198994  41.25917585\n",
            "  53.68968375  15.45552833  55.40209373  59.41409794  56.02773877\n",
            "  25.8486905   53.0404346   68.39538471  51.06023488  57.81462642\n",
            "  48.9122289   41.76538508  55.09275777  46.20719789  55.81239092\n",
            "  62.77746323  67.93647412  52.11510983  54.99325336  60.53250382\n",
            "  66.97734296  45.25939593  54.90020247  46.95886531  42.64371003\n",
            "  44.49800688  69.84302746  57.67910075  53.09624649  48.93296823\n",
            "  63.02205841  47.35468434  67.86479889  36.28686469  73.8822122\n",
            "  61.2450589   48.41486181  52.62094189  62.40867483  62.01548981\n",
            "  37.03183579  50.44053147  57.2217063   67.74555274  47.14680159\n",
            "  56.40760763  14.07841588  63.09691296  61.06393625  41.08704214\n",
            "  62.92072026  77.05643593  52.43382255  55.00252274  66.40468385\n",
            "  42.67393479  35.95240356  52.57396926  70.13756194  64.11001669\n",
            "  49.07057862  60.84906692  25.35642691  44.86999338  44.38905978\n",
            "  75.23336719  78.75045403  62.02152769  57.22102321  22.25190607\n",
            "  31.62432907  45.45356233  61.10033148  56.616751    43.31064801\n",
            "  50.24793889  41.65023071  54.92830597  55.41967619  42.07181866\n",
            "  75.34890053  52.1689035   51.81296004  70.04249175  54.27602014\n",
            "  48.05579521  70.08025899  60.43928913  35.16846629  58.35963858\n",
            "  72.84672811  52.74146439  35.67720609  51.40184181  55.57071639\n",
            "  38.16311041  51.77769447  59.22637521  61.51352422  39.23096106\n",
            "  54.63392894  84.50150081  74.37440245  20.82132497  58.48821884\n",
            "  83.46959973  56.06737461  29.09719196  46.3096645   51.61823421\n",
            "  33.33460368  61.89051544  57.8955025   41.0903482   79.17525534\n",
            "  36.0428906   46.34495802  52.46292363  40.16604716  82.4798217\n",
            "  59.95766971  43.92817043  74.82836912  34.44305669  30.04569281\n",
            "  37.75786523  40.97703656  52.93750885  55.17408174  53.42898636\n",
            "  53.57945067  50.08994244  61.31861861  46.43626608  44.94411315\n",
            "  67.13130014  58.11182497  41.38252131  43.78898889  42.31212237\n",
            "  62.73083237  49.31858437  40.90881689  51.97900563  49.73347673\n",
            "  49.27163931  50.32985202  43.01187453  44.02459697  53.2182149\n",
            "  51.15231882  35.29680057  43.23838871  38.05013804  54.86796302\n",
            "  54.84501253  73.26721871  47.5675133   77.14863784  41.62446464\n",
            "  49.90344848  31.97135143  59.93660558  49.9950973   50.90969272\n",
            "  70.80829121  37.7053299   53.49656242  44.3271783   46.78912482\n",
            "  39.67802784  65.2381647   57.48991023  65.5848435   56.55063227\n",
            "  33.52020675  52.3138827   66.09759587  50.64414353  50.19426936\n",
            "  68.29731189  60.43502833  56.80330462  58.80693917  52.71839702\n",
            "  47.85141637  36.70705884  51.71940198  53.64071642  60.27655696\n",
            "  91.67184849  52.93035799  40.81484643  59.93849307  71.30817252\n",
            "  60.22324656  45.43540078  33.4992915   73.50783599  68.6517319\n",
            "  51.24151401  40.10006779  24.94704468  44.30542013  50.23084932\n",
            "  69.0740819   49.53196413  50.83271793  67.13528651  65.38435421\n",
            "  57.55313529  51.78241914  46.31649689  51.13537422  59.72808825\n",
            "  57.93643992  56.2967224   38.79266464  45.28489286  48.09364589\n",
            "  63.06303325  57.27553885  47.57713915  41.60222319  40.47687915\n",
            "  24.17252336  46.14691803  29.77201528  59.05156655  37.42784823\n",
            "  40.32378543  39.19469971  43.25465427  53.09759515  65.19651302\n",
            "  56.07293699  63.59813279  42.8838411   54.81726352  49.12073438\n",
            "  49.9517771   36.76612789  61.63120302  44.95320281  53.19712455\n",
            "  35.84974881  51.49773759  54.32227105  49.20322972  53.24463177\n",
            "  58.21790892  67.35712329  65.30848508  59.01248574  64.39508581\n",
            "  44.14580044  44.69657372  35.9488261   48.2866615   60.58766606\n",
            "  77.74626604  56.95168978  52.39509975  29.74291679  55.50137498\n",
            "  61.69777544  62.67632077  35.86849424  56.12971304  31.54130531\n",
            "  43.14300028  69.44633484  74.2671172   48.87881175  68.8926362\n",
            "  31.21119326  54.41142602  86.62463565  51.01591037  29.10291141\n",
            "  58.59077176  48.60883762  68.19226487  53.69544075  35.76893534\n",
            "  49.59036611  65.59202961  13.69780487  63.16077353  38.37215078\n",
            "  47.3592648   37.81910246  45.50934151  44.47164448  49.78541956\n",
            "  57.03770364  86.66273173  60.55154173  56.35107903  59.84912774\n",
            "  36.59016295  45.82541105  59.20127847  50.30815656  61.06216924\n",
            "  39.30902513  46.78510167  61.37828109  46.50470367  46.93555677\n",
            "  38.11195135  50.68175452  52.56696261  55.6867472   67.68124266\n",
            "  58.0078251  111.43798786  59.14517152  57.08833947  51.41003206\n",
            "  64.1140477   54.81788659  38.39607108  68.97752803  62.63283029\n",
            "  59.29542082  57.0313534   57.23195613  40.51274465  44.57169106\n",
            "  41.37131359  46.80507861  41.21224319  43.95997594  45.63830304\n",
            "  38.60763988  50.22328235  53.32892997  39.40325461  57.11571901\n",
            "  51.28795875  53.66559048  71.48865861  33.60829504  67.90326088\n",
            "  42.96294823  24.85451747  68.11614687  42.05527745  54.43410943\n",
            "  50.18169986  60.48703301  60.05411789  49.94713003  54.40059486\n",
            "  61.7654894   55.53814508  53.7873467   63.00209757  41.21837327\n",
            "  65.97082262  56.46863307  45.09926603  62.36776018  50.98301896\n",
            "  52.98329387  63.51303989  50.69790162]\n"
          ]
        }
      ],
      "source": [
        "y_pred=ml.predict(x_test)\n",
        "print(y_pred)"
      ]
    },
    {
      "cell_type": "markdown",
      "source": [
        "Predict Using Values from incident_death"
      ],
      "metadata": {
        "id": "fRPA0IBB4XxM"
      },
      "id": "fRPA0IBB4XxM"
    },
    {
      "cell_type": "code",
      "source": [
        "input = input.drop(['County'],axis=1)"
      ],
      "metadata": {
        "id": "3dPb_rUB6e55"
      },
      "id": "3dPb_rUB6e55",
      "execution_count": 27,
      "outputs": []
    },
    {
      "cell_type": "code",
      "source": [
        "input"
      ],
      "metadata": {
        "colab": {
          "base_uri": "https://localhost:8080/",
          "height": 80
        },
        "id": "mSu6OAG6Grwv",
        "outputId": "a4a0f44c-331c-4075-d5ff-8ed36fc22f86"
      },
      "id": "mSu6OAG6Grwv",
      "execution_count": 28,
      "outputs": [
        {
          "output_type": "execute_result",
          "data": {
            "text/plain": [
              "     Median_Income_x  Age-Adjusted Incidence Rate  Average Annual Count  \\\n",
              "580          81556.2                         51.8                   972   \n",
              "\n",
              "     Age-Adjusted Death Rate  Average Deaths per Year  \n",
              "580                     36.4                      681  "
            ],
            "text/html": [
              "\n",
              "  <div id=\"df-44b6e658-260f-4c4c-8eef-32ef346e0046\">\n",
              "    <div class=\"colab-df-container\">\n",
              "      <div>\n",
              "<style scoped>\n",
              "    .dataframe tbody tr th:only-of-type {\n",
              "        vertical-align: middle;\n",
              "    }\n",
              "\n",
              "    .dataframe tbody tr th {\n",
              "        vertical-align: top;\n",
              "    }\n",
              "\n",
              "    .dataframe thead th {\n",
              "        text-align: right;\n",
              "    }\n",
              "</style>\n",
              "<table border=\"1\" class=\"dataframe\">\n",
              "  <thead>\n",
              "    <tr style=\"text-align: right;\">\n",
              "      <th></th>\n",
              "      <th>Median_Income_x</th>\n",
              "      <th>Age-Adjusted Incidence Rate</th>\n",
              "      <th>Average Annual Count</th>\n",
              "      <th>Age-Adjusted Death Rate</th>\n",
              "      <th>Average Deaths per Year</th>\n",
              "    </tr>\n",
              "  </thead>\n",
              "  <tbody>\n",
              "    <tr>\n",
              "      <th>580</th>\n",
              "      <td>81556.2</td>\n",
              "      <td>51.8</td>\n",
              "      <td>972</td>\n",
              "      <td>36.4</td>\n",
              "      <td>681</td>\n",
              "    </tr>\n",
              "  </tbody>\n",
              "</table>\n",
              "</div>\n",
              "      <button class=\"colab-df-convert\" onclick=\"convertToInteractive('df-44b6e658-260f-4c4c-8eef-32ef346e0046')\"\n",
              "              title=\"Convert this dataframe to an interactive table.\"\n",
              "              style=\"display:none;\">\n",
              "        \n",
              "  <svg xmlns=\"http://www.w3.org/2000/svg\" height=\"24px\"viewBox=\"0 0 24 24\"\n",
              "       width=\"24px\">\n",
              "    <path d=\"M0 0h24v24H0V0z\" fill=\"none\"/>\n",
              "    <path d=\"M18.56 5.44l.94 2.06.94-2.06 2.06-.94-2.06-.94-.94-2.06-.94 2.06-2.06.94zm-11 1L8.5 8.5l.94-2.06 2.06-.94-2.06-.94L8.5 2.5l-.94 2.06-2.06.94zm10 10l.94 2.06.94-2.06 2.06-.94-2.06-.94-.94-2.06-.94 2.06-2.06.94z\"/><path d=\"M17.41 7.96l-1.37-1.37c-.4-.4-.92-.59-1.43-.59-.52 0-1.04.2-1.43.59L10.3 9.45l-7.72 7.72c-.78.78-.78 2.05 0 2.83L4 21.41c.39.39.9.59 1.41.59.51 0 1.02-.2 1.41-.59l7.78-7.78 2.81-2.81c.8-.78.8-2.07 0-2.86zM5.41 20L4 18.59l7.72-7.72 1.47 1.35L5.41 20z\"/>\n",
              "  </svg>\n",
              "      </button>\n",
              "      \n",
              "  <style>\n",
              "    .colab-df-container {\n",
              "      display:flex;\n",
              "      flex-wrap:wrap;\n",
              "      gap: 12px;\n",
              "    }\n",
              "\n",
              "    .colab-df-convert {\n",
              "      background-color: #E8F0FE;\n",
              "      border: none;\n",
              "      border-radius: 50%;\n",
              "      cursor: pointer;\n",
              "      display: none;\n",
              "      fill: #1967D2;\n",
              "      height: 32px;\n",
              "      padding: 0 0 0 0;\n",
              "      width: 32px;\n",
              "    }\n",
              "\n",
              "    .colab-df-convert:hover {\n",
              "      background-color: #E2EBFA;\n",
              "      box-shadow: 0px 1px 2px rgba(60, 64, 67, 0.3), 0px 1px 3px 1px rgba(60, 64, 67, 0.15);\n",
              "      fill: #174EA6;\n",
              "    }\n",
              "\n",
              "    [theme=dark] .colab-df-convert {\n",
              "      background-color: #3B4455;\n",
              "      fill: #D2E3FC;\n",
              "    }\n",
              "\n",
              "    [theme=dark] .colab-df-convert:hover {\n",
              "      background-color: #434B5C;\n",
              "      box-shadow: 0px 1px 3px 1px rgba(0, 0, 0, 0.15);\n",
              "      filter: drop-shadow(0px 1px 2px rgba(0, 0, 0, 0.3));\n",
              "      fill: #FFFFFF;\n",
              "    }\n",
              "  </style>\n",
              "\n",
              "      <script>\n",
              "        const buttonEl =\n",
              "          document.querySelector('#df-44b6e658-260f-4c4c-8eef-32ef346e0046 button.colab-df-convert');\n",
              "        buttonEl.style.display =\n",
              "          google.colab.kernel.accessAllowed ? 'block' : 'none';\n",
              "\n",
              "        async function convertToInteractive(key) {\n",
              "          const element = document.querySelector('#df-44b6e658-260f-4c4c-8eef-32ef346e0046');\n",
              "          const dataTable =\n",
              "            await google.colab.kernel.invokeFunction('convertToInteractive',\n",
              "                                                     [key], {});\n",
              "          if (!dataTable) return;\n",
              "\n",
              "          const docLinkHtml = 'Like what you see? Visit the ' +\n",
              "            '<a target=\"_blank\" href=https://colab.research.google.com/notebooks/data_table.ipynb>data table notebook</a>'\n",
              "            + ' to learn more about interactive tables.';\n",
              "          element.innerHTML = '';\n",
              "          dataTable['output_type'] = 'display_data';\n",
              "          await google.colab.output.renderOutput(dataTable, element);\n",
              "          const docLink = document.createElement('div');\n",
              "          docLink.innerHTML = docLinkHtml;\n",
              "          element.appendChild(docLink);\n",
              "        }\n",
              "      </script>\n",
              "    </div>\n",
              "  </div>\n",
              "  "
            ]
          },
          "metadata": {},
          "execution_count": 28
        }
      ]
    },
    {
      "cell_type": "code",
      "source": [
        "val = input.drop(['Age-Adjusted Death Rate'],axis=1).values"
      ],
      "metadata": {
        "id": "W5a9lcXY6WmI"
      },
      "id": "W5a9lcXY6WmI",
      "execution_count": 29,
      "outputs": []
    },
    {
      "cell_type": "code",
      "execution_count": 30,
      "id": "e9e47e65",
      "metadata": {
        "id": "e9e47e65",
        "colab": {
          "base_uri": "https://localhost:8080/"
        },
        "outputId": "8bdd222c-f446-499a-92c2-3f2031a61fc8"
      },
      "outputs": [
        {
          "output_type": "execute_result",
          "data": {
            "text/plain": [
              "array([31.97135143])"
            ]
          },
          "metadata": {},
          "execution_count": 30
        }
      ],
      "source": [
        " ml.predict(val)"
      ]
    },
    {
      "cell_type": "markdown",
      "id": "d52b06e3",
      "metadata": {
        "id": "d52b06e3"
      },
      "source": [
        "Evaluate the model"
      ]
    },
    {
      "cell_type": "code",
      "execution_count": 31,
      "id": "922b68b2",
      "metadata": {
        "id": "922b68b2",
        "colab": {
          "base_uri": "https://localhost:8080/"
        },
        "outputId": "b395c5b4-5987-4fbb-995b-0978a8f361e6"
      },
      "outputs": [
        {
          "output_type": "execute_result",
          "data": {
            "text/plain": [
              "0.8245352983243797"
            ]
          },
          "metadata": {},
          "execution_count": 31
        }
      ],
      "source": [
        "from sklearn.metrics import r2_score\n",
        "r2_score(y_test,y_pred)"
      ]
    },
    {
      "cell_type": "markdown",
      "id": "aff0a32c",
      "metadata": {
        "id": "aff0a32c"
      },
      "source": [
        "Plot the results"
      ]
    },
    {
      "cell_type": "code",
      "execution_count": 32,
      "id": "7e957b42",
      "metadata": {
        "id": "7e957b42",
        "colab": {
          "base_uri": "https://localhost:8080/",
          "height": 638
        },
        "outputId": "de665471-8339-4667-a8bf-c429ed0f4532"
      },
      "outputs": [
        {
          "output_type": "execute_result",
          "data": {
            "text/plain": [
              "Text(0.5, 1.0, 'Actual vs, Predicted')"
            ]
          },
          "metadata": {},
          "execution_count": 32
        },
        {
          "output_type": "display_data",
          "data": {
            "text/plain": [
              "<Figure size 1080x720 with 1 Axes>"
            ],
            "image/png": "[encoded data removed]"
          },
          "metadata": {
            "needs_background": "light"
          }
        }
      ],
      "source": [
        "plt.figure(figsize=(15,10))\n",
        "plt.scatter(y_test,y_pred)\n",
        "plt.xlabel('Actual')\n",
        "plt.ylabel('Predicted')\n",
        "plt.title('Actual vs, Predicted')"
      ]
    },
    {
      "cell_type": "code",
      "execution_count": 33,
      "id": "3ea7a22d",
      "metadata": {
        "scrolled": true,
        "id": "3ea7a22d",
        "colab": {
          "base_uri": "https://localhost:8080/",
          "height": 206
        },
        "outputId": "437e41c5-b299-4474-a44e-ec492a885763"
      },
      "outputs": [
        {
          "output_type": "execute_result",
          "data": {
            "text/plain": [
              "   Actual Value  Predicted Value  Difference\n",
              "0          64.5        68.192277   -3.692277\n",
              "1          51.5        53.934093   -2.434093\n",
              "2          63.1        58.560505    4.539495\n",
              "3          39.0        42.388783   -3.388783\n",
              "4          50.3        49.757461    0.542539"
            ],
            "text/html": [
              "\n",
              "  <div id=\"df-b4254f5c-4178-4786-953d-71bf9893aa21\">\n",
              "    <div class=\"colab-df-container\">\n",
              "      <div>\n",
              "<style scoped>\n",
              "    .dataframe tbody tr th:only-of-type {\n",
              "        vertical-align: middle;\n",
              "    }\n",
              "\n",
              "    .dataframe tbody tr th {\n",
              "        vertical-align: top;\n",
              "    }\n",
              "\n",
              "    .dataframe thead th {\n",
              "        text-align: right;\n",
              "    }\n",
              "</style>\n",
              "<table border=\"1\" class=\"dataframe\">\n",
              "  <thead>\n",
              "    <tr style=\"text-align: right;\">\n",
              "      <th></th>\n",
              "      <th>Actual Value</th>\n",
              "      <th>Predicted Value</th>\n",
              "      <th>Difference</th>\n",
              "    </tr>\n",
              "  </thead>\n",
              "  <tbody>\n",
              "    <tr>\n",
              "      <th>0</th>\n",
              "      <td>64.5</td>\n",
              "      <td>68.192277</td>\n",
              "      <td>-3.692277</td>\n",
              "    </tr>\n",
              "    <tr>\n",
              "      <th>1</th>\n",
              "      <td>51.5</td>\n",
              "      <td>53.934093</td>\n",
              "      <td>-2.434093</td>\n",
              "    </tr>\n",
              "    <tr>\n",
              "      <th>2</th>\n",
              "      <td>63.1</td>\n",
              "      <td>58.560505</td>\n",
              "      <td>4.539495</td>\n",
              "    </tr>\n",
              "    <tr>\n",
              "      <th>3</th>\n",
              "      <td>39.0</td>\n",
              "      <td>42.388783</td>\n",
              "      <td>-3.388783</td>\n",
              "    </tr>\n",
              "    <tr>\n",
              "      <th>4</th>\n",
              "      <td>50.3</td>\n",
              "      <td>49.757461</td>\n",
              "      <td>0.542539</td>\n",
              "    </tr>\n",
              "  </tbody>\n",
              "</table>\n",
              "</div>\n",
              "      <button class=\"colab-df-convert\" onclick=\"convertToInteractive('df-b4254f5c-4178-4786-953d-71bf9893aa21')\"\n",
              "              title=\"Convert this dataframe to an interactive table.\"\n",
              "              style=\"display:none;\">\n",
              "        \n",
              "  <svg xmlns=\"http://www.w3.org/2000/svg\" height=\"24px\"viewBox=\"0 0 24 24\"\n",
              "       width=\"24px\">\n",
              "    <path d=\"M0 0h24v24H0V0z\" fill=\"none\"/>\n",
              "    <path d=\"M18.56 5.44l.94 2.06.94-2.06 2.06-.94-2.06-.94-.94-2.06-.94 2.06-2.06.94zm-11 1L8.5 8.5l.94-2.06 2.06-.94-2.06-.94L8.5 2.5l-.94 2.06-2.06.94zm10 10l.94 2.06.94-2.06 2.06-.94-2.06-.94-.94-2.06-.94 2.06-2.06.94z\"/><path d=\"M17.41 7.96l-1.37-1.37c-.4-.4-.92-.59-1.43-.59-.52 0-1.04.2-1.43.59L10.3 9.45l-7.72 7.72c-.78.78-.78 2.05 0 2.83L4 21.41c.39.39.9.59 1.41.59.51 0 1.02-.2 1.41-.59l7.78-7.78 2.81-2.81c.8-.78.8-2.07 0-2.86zM5.41 20L4 18.59l7.72-7.72 1.47 1.35L5.41 20z\"/>\n",
              "  </svg>\n",
              "      </button>\n",
              "      \n",
              "  <style>\n",
              "    .colab-df-container {\n",
              "      display:flex;\n",
              "      flex-wrap:wrap;\n",
              "      gap: 12px;\n",
              "    }\n",
              "\n",
              "    .colab-df-convert {\n",
              "      background-color: #E8F0FE;\n",
              "      border: none;\n",
              "      border-radius: 50%;\n",
              "      cursor: pointer;\n",
              "      display: none;\n",
              "      fill: #1967D2;\n",
              "      height: 32px;\n",
              "      padding: 0 0 0 0;\n",
              "      width: 32px;\n",
              "    }\n",
              "\n",
              "    .colab-df-convert:hover {\n",
              "      background-color: #E2EBFA;\n",
              "      box-shadow: 0px 1px 2px rgba(60, 64, 67, 0.3), 0px 1px 3px 1px rgba(60, 64, 67, 0.15);\n",
              "      fill: #174EA6;\n",
              "    }\n",
              "\n",
              "    [theme=dark] .colab-df-convert {\n",
              "      background-color: #3B4455;\n",
              "      fill: #D2E3FC;\n",
              "    }\n",
              "\n",
              "    [theme=dark] .colab-df-convert:hover {\n",
              "      background-color: #434B5C;\n",
              "      box-shadow: 0px 1px 3px 1px rgba(0, 0, 0, 0.15);\n",
              "      filter: drop-shadow(0px 1px 2px rgba(0, 0, 0, 0.3));\n",
              "      fill: #FFFFFF;\n",
              "    }\n",
              "  </style>\n",
              "\n",
              "      <script>\n",
              "        const buttonEl =\n",
              "          document.querySelector('#df-b4254f5c-4178-4786-953d-71bf9893aa21 button.colab-df-convert');\n",
              "        buttonEl.style.display =\n",
              "          google.colab.kernel.accessAllowed ? 'block' : 'none';\n",
              "\n",
              "        async function convertToInteractive(key) {\n",
              "          const element = document.querySelector('#df-b4254f5c-4178-4786-953d-71bf9893aa21');\n",
              "          const dataTable =\n",
              "            await google.colab.kernel.invokeFunction('convertToInteractive',\n",
              "                                                     [key], {});\n",
              "          if (!dataTable) return;\n",
              "\n",
              "          const docLinkHtml = 'Like what you see? Visit the ' +\n",
              "            '<a target=\"_blank\" href=https://colab.research.google.com/notebooks/data_table.ipynb>data table notebook</a>'\n",
              "            + ' to learn more about interactive tables.';\n",
              "          element.innerHTML = '';\n",
              "          dataTable['output_type'] = 'display_data';\n",
              "          await google.colab.output.renderOutput(dataTable, element);\n",
              "          const docLink = document.createElement('div');\n",
              "          docLink.innerHTML = docLinkHtml;\n",
              "          element.appendChild(docLink);\n",
              "        }\n",
              "      </script>\n",
              "    </div>\n",
              "  </div>\n",
              "  "
            ]
          },
          "metadata": {},
          "execution_count": 33
        }
      ],
      "source": [
        "pred_y_df = pd.DataFrame({'Actual Value':y_test,'Predicted Value':y_pred,'Difference': y_test-y_pred})\n",
        "pred_y_df[0:5]"
      ]
    },
    {
      "cell_type": "markdown",
      "source": [
        "## Prediction Data for County"
      ],
      "metadata": {
        "id": "c81jFT6hDcXJ"
      },
      "id": "c81jFT6hDcXJ"
    },
    {
      "cell_type": "code",
      "source": [],
      "metadata": {
        "id": "lyumwL4vDiVI"
      },
      "id": "lyumwL4vDiVI",
      "execution_count": 33,
      "outputs": []
    }
  ],
  "metadata": {
    "kernelspec": {
      "display_name": "Python 3 (ipykernel)",
      "language": "python",
      "name": "python3"
    },
    "language_info": {
      "codemirror_mode": {
        "name": "ipython",
        "version": 3
      },
      "file_extension": ".py",
      "mimetype": "text/x-python",
      "name": "python",
      "nbconvert_exporter": "python",
      "pygments_lexer": "ipython3",
      "version": "3.9.13"
    },
    "colab": {
      "provenance": [],
      "collapsed_sections": [
        "80cd6970",
        "Bw7YI2KL45_Q",
        "269e0553",
        "z-dX7s4CkvUz"
      ],
      "include_colab_link": true
    }
  },
  "nbformat": 4,
  "nbformat_minor": 5
}