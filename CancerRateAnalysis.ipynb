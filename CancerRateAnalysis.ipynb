{
  "cells": [
    {
      "cell_type": "markdown",
      "metadata": {
        "id": "view-in-github",
        "colab_type": "text"
      },
      "source": [
        "<a href=\"https://colab.research.google.com/github/pwetherby/CancerAnalysis/blob/main/CancerRateAnalysis.ipynb\" target=\"_parent\"><img src=\"https://colab.research.google.com/assets/colab-badge.svg\" alt=\"Open In Colab\"/></a>"
      ]
    },
    {
      "cell_type": "markdown",
      "source": [
        "# Cancer Rate Analysis Project\n"
      ],
      "metadata": {
        "id": "Vy3gykfb4IK3"
      },
      "id": "Vy3gykfb4IK3"
    },
    {
      "cell_type": "markdown",
      "source": [
        "## Imports"
      ],
      "metadata": {
        "id": "0_MegCLRwmP6"
      },
      "id": "0_MegCLRwmP6"
    },
    {
      "cell_type": "markdown",
      "id": "80cd6970",
      "metadata": {
        "id": "80cd6970"
      },
      "source": [
        "### Import Libraries"
      ]
    },
    {
      "cell_type": "code",
      "execution_count": 1,
      "id": "3f678891",
      "metadata": {
        "id": "3f678891"
      },
      "outputs": [],
      "source": [
        "import numpy as np\n",
        "import pandas as pd\n",
        "import matplotlib.pyplot as plt\n",
        "import seaborn as sns\n",
        "from sklearn import linear_model, metrics, model_selection"
      ]
    },
    {
      "cell_type": "markdown",
      "source": [
        "### Import CSV files"
      ],
      "metadata": {
        "id": "Bw7YI2KL45_Q"
      },
      "id": "Bw7YI2KL45_Q"
    },
    {
      "cell_type": "code",
      "execution_count": 2,
      "id": "a2f4699c",
      "metadata": {
        "id": "a2f4699c"
      },
      "outputs": [],
      "source": [
        "url0 = 'https://raw.githubusercontent.com/pwetherby/CancerAnalysis/main/income_death_data.csv'\n",
        "income_death = pd.read_csv(url0)\n",
        "url1 = 'https://raw.githubusercontent.com/pwetherby/CancerAnalysis/main/income_incident_data.csv'\n",
        "income_incident = pd.read_csv(url1)\n",
        "url2 = 'https://raw.githubusercontent.com/pwetherby/CancerAnalysis/main/incident_death_data.csv'\n",
        "incident_death = pd.read_csv(url2)"
      ]
    },
    {
      "cell_type": "markdown",
      "id": "269e0553",
      "metadata": {
        "id": "269e0553"
      },
      "source": [
        "### Import dataset"
      ]
    },
    {
      "cell_type": "code",
      "execution_count": 3,
      "id": "80a0b007",
      "metadata": {
        "id": "80a0b007"
      },
      "outputs": [],
      "source": [
        "high_risk = income_death.sort_values('Age-Adjusted Death Rate',ascending=False).head()"
      ]
    },
    {
      "cell_type": "code",
      "execution_count": 4,
      "id": "b3ed5440",
      "metadata": {
        "scrolled": true,
        "id": "b3ed5440"
      },
      "outputs": [],
      "source": [
        "high_risk = high_risk.drop('Median_Income',axis=1)\n",
        "high_risk = high_risk.drop('Average Deaths per Year',axis=1)"
      ]
    },
    {
      "cell_type": "markdown",
      "source": [
        "## Graphs"
      ],
      "metadata": {
        "id": "JLnN0jR6ws5T"
      },
      "id": "JLnN0jR6ws5T"
    },
    {
      "cell_type": "markdown",
      "source": [
        "### High Risk Counties for Cancer Deaths"
      ],
      "metadata": {
        "id": "0NlwC_gNjMlz"
      },
      "id": "0NlwC_gNjMlz"
    },
    {
      "cell_type": "code",
      "execution_count": 5,
      "id": "e66530ff",
      "metadata": {
        "id": "e66530ff",
        "colab": {
          "base_uri": "https://localhost:8080/",
          "height": 0
        },
        "outputId": "fd6b9be6-2e05-4caa-81af-51d5d8fb1078"
      },
      "outputs": [
        {
          "output_type": "execute_result",
          "data": {
            "text/plain": [
              "                            County  Age-Adjusted Death Rate\n",
              "910    North Slope Borough, Alaska                    124.9\n",
              "1010        Polk County, Tennessee                    103.3\n",
              "418         Floyd County, Kentucky                     98.7\n",
              "832   Mississippi County, Missouri                     97.2\n",
              "908       Nome Census Area, Alaska                     96.1"
            ],
            "text/html": [
              "\n",
              "  <div id=\"df-a845cfee-49e2-4518-93ed-53ce5bba3cca\">\n",
              "    <div class=\"colab-df-container\">\n",
              "      <div>\n",
              "<style scoped>\n",
              "    .dataframe tbody tr th:only-of-type {\n",
              "        vertical-align: middle;\n",
              "    }\n",
              "\n",
              "    .dataframe tbody tr th {\n",
              "        vertical-align: top;\n",
              "    }\n",
              "\n",
              "    .dataframe thead th {\n",
              "        text-align: right;\n",
              "    }\n",
              "</style>\n",
              "<table border=\"1\" class=\"dataframe\">\n",
              "  <thead>\n",
              "    <tr style=\"text-align: right;\">\n",
              "      <th></th>\n",
              "      <th>County</th>\n",
              "      <th>Age-Adjusted Death Rate</th>\n",
              "    </tr>\n",
              "  </thead>\n",
              "  <tbody>\n",
              "    <tr>\n",
              "      <th>910</th>\n",
              "      <td>North Slope Borough, Alaska</td>\n",
              "      <td>124.9</td>\n",
              "    </tr>\n",
              "    <tr>\n",
              "      <th>1010</th>\n",
              "      <td>Polk County, Tennessee</td>\n",
              "      <td>103.3</td>\n",
              "    </tr>\n",
              "    <tr>\n",
              "      <th>418</th>\n",
              "      <td>Floyd County, Kentucky</td>\n",
              "      <td>98.7</td>\n",
              "    </tr>\n",
              "    <tr>\n",
              "      <th>832</th>\n",
              "      <td>Mississippi County, Missouri</td>\n",
              "      <td>97.2</td>\n",
              "    </tr>\n",
              "    <tr>\n",
              "      <th>908</th>\n",
              "      <td>Nome Census Area, Alaska</td>\n",
              "      <td>96.1</td>\n",
              "    </tr>\n",
              "  </tbody>\n",
              "</table>\n",
              "</div>\n",
              "      <button class=\"colab-df-convert\" onclick=\"convertToInteractive('df-a845cfee-49e2-4518-93ed-53ce5bba3cca')\"\n",
              "              title=\"Convert this dataframe to an interactive table.\"\n",
              "              style=\"display:none;\">\n",
              "        \n",
              "  <svg xmlns=\"http://www.w3.org/2000/svg\" height=\"24px\"viewBox=\"0 0 24 24\"\n",
              "       width=\"24px\">\n",
              "    <path d=\"M0 0h24v24H0V0z\" fill=\"none\"/>\n",
              "    <path d=\"M18.56 5.44l.94 2.06.94-2.06 2.06-.94-2.06-.94-.94-2.06-.94 2.06-2.06.94zm-11 1L8.5 8.5l.94-2.06 2.06-.94-2.06-.94L8.5 2.5l-.94 2.06-2.06.94zm10 10l.94 2.06.94-2.06 2.06-.94-2.06-.94-.94-2.06-.94 2.06-2.06.94z\"/><path d=\"M17.41 7.96l-1.37-1.37c-.4-.4-.92-.59-1.43-.59-.52 0-1.04.2-1.43.59L10.3 9.45l-7.72 7.72c-.78.78-.78 2.05 0 2.83L4 21.41c.39.39.9.59 1.41.59.51 0 1.02-.2 1.41-.59l7.78-7.78 2.81-2.81c.8-.78.8-2.07 0-2.86zM5.41 20L4 18.59l7.72-7.72 1.47 1.35L5.41 20z\"/>\n",
              "  </svg>\n",
              "      </button>\n",
              "      \n",
              "  <style>\n",
              "    .colab-df-container {\n",
              "      display:flex;\n",
              "      flex-wrap:wrap;\n",
              "      gap: 12px;\n",
              "    }\n",
              "\n",
              "    .colab-df-convert {\n",
              "      background-color: #E8F0FE;\n",
              "      border: none;\n",
              "      border-radius: 50%;\n",
              "      cursor: pointer;\n",
              "      display: none;\n",
              "      fill: #1967D2;\n",
              "      height: 32px;\n",
              "      padding: 0 0 0 0;\n",
              "      width: 32px;\n",
              "    }\n",
              "\n",
              "    .colab-df-convert:hover {\n",
              "      background-color: #E2EBFA;\n",
              "      box-shadow: 0px 1px 2px rgba(60, 64, 67, 0.3), 0px 1px 3px 1px rgba(60, 64, 67, 0.15);\n",
              "      fill: #174EA6;\n",
              "    }\n",
              "\n",
              "    [theme=dark] .colab-df-convert {\n",
              "      background-color: #3B4455;\n",
              "      fill: #D2E3FC;\n",
              "    }\n",
              "\n",
              "    [theme=dark] .colab-df-convert:hover {\n",
              "      background-color: #434B5C;\n",
              "      box-shadow: 0px 1px 3px 1px rgba(0, 0, 0, 0.15);\n",
              "      filter: drop-shadow(0px 1px 2px rgba(0, 0, 0, 0.3));\n",
              "      fill: #FFFFFF;\n",
              "    }\n",
              "  </style>\n",
              "\n",
              "      <script>\n",
              "        const buttonEl =\n",
              "          document.querySelector('#df-a845cfee-49e2-4518-93ed-53ce5bba3cca button.colab-df-convert');\n",
              "        buttonEl.style.display =\n",
              "          google.colab.kernel.accessAllowed ? 'block' : 'none';\n",
              "\n",
              "        async function convertToInteractive(key) {\n",
              "          const element = document.querySelector('#df-a845cfee-49e2-4518-93ed-53ce5bba3cca');\n",
              "          const dataTable =\n",
              "            await google.colab.kernel.invokeFunction('convertToInteractive',\n",
              "                                                     [key], {});\n",
              "          if (!dataTable) return;\n",
              "\n",
              "          const docLinkHtml = 'Like what you see? Visit the ' +\n",
              "            '<a target=\"_blank\" href=https://colab.research.google.com/notebooks/data_table.ipynb>data table notebook</a>'\n",
              "            + ' to learn more about interactive tables.';\n",
              "          element.innerHTML = '';\n",
              "          dataTable['output_type'] = 'display_data';\n",
              "          await google.colab.output.renderOutput(dataTable, element);\n",
              "          const docLink = document.createElement('div');\n",
              "          docLink.innerHTML = docLinkHtml;\n",
              "          element.appendChild(docLink);\n",
              "        }\n",
              "      </script>\n",
              "    </div>\n",
              "  </div>\n",
              "  "
            ]
          },
          "metadata": {},
          "execution_count": 5
        }
      ],
      "source": [
        "high_risk"
      ]
    },
    {
      "cell_type": "markdown",
      "source": [
        "### Cancer Death and Incident Data\n"
      ],
      "metadata": {
        "id": "g2dtL1hQi3kd"
      },
      "id": "g2dtL1hQi3kd"
    },
    {
      "cell_type": "code",
      "execution_count": 6,
      "id": "8a79476e",
      "metadata": {
        "id": "8a79476e",
        "colab": {
          "base_uri": "https://localhost:8080/",
          "height": 0
        },
        "outputId": "9109e7fc-9006-493f-b19c-1e830581dd59"
      },
      "outputs": [
        {
          "output_type": "display_data",
          "data": {
            "text/plain": [
              "<Figure size 540x540 with 12 Axes>"
            ],
            "image/png": "[encoded data removed]"
          },
          "metadata": {
            "needs_background": "light"
          }
        }
      ],
      "source": [
        "g = sns.pairplot(income_death);\n",
        "g.fig.suptitle(\"Cancer Data Summary\", y=1.00);"
      ]
    },
    {
      "cell_type": "code",
      "execution_count": 7,
      "id": "084352d2",
      "metadata": {
        "id": "084352d2",
        "colab": {
          "base_uri": "https://localhost:8080/",
          "height": 0
        },
        "outputId": "5eb4c9da-d3e3-43bc-faae-a1ea69292079"
      },
      "outputs": [
        {
          "output_type": "display_data",
          "data": {
            "text/plain": [
              "<Figure size 360x360 with 1 Axes>"
            ],
            "image/png": "[encoded data removed]"
          },
          "metadata": {
            "needs_background": "light"
          }
        }
      ],
      "source": [
        "sns.displot(x='Median_Income',data=income_death,kde=True,bins=100);\n",
        "plt.title('Median Income of Counties');\n",
        "plt.ylabel('# of Counties');\n",
        "plt.xlabel('Median Income');"
      ]
    },
    {
      "cell_type": "code",
      "execution_count": 8,
      "id": "ede78015",
      "metadata": {
        "id": "ede78015",
        "colab": {
          "base_uri": "https://localhost:8080/",
          "height": 0
        },
        "outputId": "14d164a2-bcd4-49fd-909b-b6a3606b7b19"
      },
      "outputs": [
        {
          "output_type": "display_data",
          "data": {
            "text/plain": [
              "<Figure size 432x288 with 1 Axes>"
            ],
            "image/png": "[encoded data removed]"
          },
          "metadata": {
            "needs_background": "light"
          }
        }
      ],
      "source": [
        "\n",
        "sns.scatterplot(x='Median_Income',y='Average Deaths per Year',data=income_death);\n",
        "plt.title('Average Total Death by County Income');\n",
        "plt.xlabel('Median Income');"
      ]
    },
    {
      "cell_type": "code",
      "execution_count": 9,
      "id": "35928886",
      "metadata": {
        "id": "35928886",
        "colab": {
          "base_uri": "https://localhost:8080/",
          "height": 0
        },
        "outputId": "55783429-c264-4ec0-dea1-fe9de2415d08"
      },
      "outputs": [
        {
          "output_type": "execute_result",
          "data": {
            "text/plain": [
              "Text(0.5, 0, 'Median Income')"
            ]
          },
          "metadata": {},
          "execution_count": 9
        },
        {
          "output_type": "display_data",
          "data": {
            "text/plain": [
              "<Figure size 432x288 with 1 Axes>"
            ],
            "image/png": "[encoded data removed]"
          },
          "metadata": {
            "needs_background": "light"
          }
        }
      ],
      "source": [
        "sns.scatterplot(x='Median_Income',y='Age-Adjusted Death Rate',data=income_death);\n",
        "plt.title('Death Rate by County Income')\n",
        "plt.xlabel('Median Income')"
      ]
    },
    {
      "cell_type": "markdown",
      "source": [
        "### Income Death Correlation"
      ],
      "metadata": {
        "id": "ud6dRxiCurqK"
      },
      "id": "ud6dRxiCurqK"
    },
    {
      "cell_type": "code",
      "execution_count": 10,
      "id": "b52882bf",
      "metadata": {
        "id": "b52882bf",
        "colab": {
          "base_uri": "https://localhost:8080/",
          "height": 0
        },
        "outputId": "a909c5a7-edd1-4740-efe4-c7cc8c7b6258"
      },
      "outputs": [
        {
          "output_type": "execute_result",
          "data": {
            "text/plain": [
              "                         Median_Income  Age-Adjusted Death Rate  \\\n",
              "Median_Income                 1.000000                -0.354285   \n",
              "Age-Adjusted Death Rate      -0.354285                 1.000000   \n",
              "Average Deaths per Year       0.338089                -0.145618   \n",
              "\n",
              "                         Average Deaths per Year  \n",
              "Median_Income                           0.338089  \n",
              "Age-Adjusted Death Rate                -0.145618  \n",
              "Average Deaths per Year                 1.000000  "
            ],
            "text/html": [
              "\n",
              "  <div id=\"df-a2c5f491-fec0-49ae-b02b-26fcf4d83705\">\n",
              "    <div class=\"colab-df-container\">\n",
              "      <div>\n",
              "<style scoped>\n",
              "    .dataframe tbody tr th:only-of-type {\n",
              "        vertical-align: middle;\n",
              "    }\n",
              "\n",
              "    .dataframe tbody tr th {\n",
              "        vertical-align: top;\n",
              "    }\n",
              "\n",
              "    .dataframe thead th {\n",
              "        text-align: right;\n",
              "    }\n",
              "</style>\n",
              "<table border=\"1\" class=\"dataframe\">\n",
              "  <thead>\n",
              "    <tr style=\"text-align: right;\">\n",
              "      <th></th>\n",
              "      <th>Median_Income</th>\n",
              "      <th>Age-Adjusted Death Rate</th>\n",
              "      <th>Average Deaths per Year</th>\n",
              "    </tr>\n",
              "  </thead>\n",
              "  <tbody>\n",
              "    <tr>\n",
              "      <th>Median_Income</th>\n",
              "      <td>1.000000</td>\n",
              "      <td>-0.354285</td>\n",
              "      <td>0.338089</td>\n",
              "    </tr>\n",
              "    <tr>\n",
              "      <th>Age-Adjusted Death Rate</th>\n",
              "      <td>-0.354285</td>\n",
              "      <td>1.000000</td>\n",
              "      <td>-0.145618</td>\n",
              "    </tr>\n",
              "    <tr>\n",
              "      <th>Average Deaths per Year</th>\n",
              "      <td>0.338089</td>\n",
              "      <td>-0.145618</td>\n",
              "      <td>1.000000</td>\n",
              "    </tr>\n",
              "  </tbody>\n",
              "</table>\n",
              "</div>\n",
              "      <button class=\"colab-df-convert\" onclick=\"convertToInteractive('df-a2c5f491-fec0-49ae-b02b-26fcf4d83705')\"\n",
              "              title=\"Convert this dataframe to an interactive table.\"\n",
              "              style=\"display:none;\">\n",
              "        \n",
              "  <svg xmlns=\"http://www.w3.org/2000/svg\" height=\"24px\"viewBox=\"0 0 24 24\"\n",
              "       width=\"24px\">\n",
              "    <path d=\"M0 0h24v24H0V0z\" fill=\"none\"/>\n",
              "    <path d=\"M18.56 5.44l.94 2.06.94-2.06 2.06-.94-2.06-.94-.94-2.06-.94 2.06-2.06.94zm-11 1L8.5 8.5l.94-2.06 2.06-.94-2.06-.94L8.5 2.5l-.94 2.06-2.06.94zm10 10l.94 2.06.94-2.06 2.06-.94-2.06-.94-.94-2.06-.94 2.06-2.06.94z\"/><path d=\"M17.41 7.96l-1.37-1.37c-.4-.4-.92-.59-1.43-.59-.52 0-1.04.2-1.43.59L10.3 9.45l-7.72 7.72c-.78.78-.78 2.05 0 2.83L4 21.41c.39.39.9.59 1.41.59.51 0 1.02-.2 1.41-.59l7.78-7.78 2.81-2.81c.8-.78.8-2.07 0-2.86zM5.41 20L4 18.59l7.72-7.72 1.47 1.35L5.41 20z\"/>\n",
              "  </svg>\n",
              "      </button>\n",
              "      \n",
              "  <style>\n",
              "    .colab-df-container {\n",
              "      display:flex;\n",
              "      flex-wrap:wrap;\n",
              "      gap: 12px;\n",
              "    }\n",
              "\n",
              "    .colab-df-convert {\n",
              "      background-color: #E8F0FE;\n",
              "      border: none;\n",
              "      border-radius: 50%;\n",
              "      cursor: pointer;\n",
              "      display: none;\n",
              "      fill: #1967D2;\n",
              "      height: 32px;\n",
              "      padding: 0 0 0 0;\n",
              "      width: 32px;\n",
              "    }\n",
              "\n",
              "    .colab-df-convert:hover {\n",
              "      background-color: #E2EBFA;\n",
              "      box-shadow: 0px 1px 2px rgba(60, 64, 67, 0.3), 0px 1px 3px 1px rgba(60, 64, 67, 0.15);\n",
              "      fill: #174EA6;\n",
              "    }\n",
              "\n",
              "    [theme=dark] .colab-df-convert {\n",
              "      background-color: #3B4455;\n",
              "      fill: #D2E3FC;\n",
              "    }\n",
              "\n",
              "    [theme=dark] .colab-df-convert:hover {\n",
              "      background-color: #434B5C;\n",
              "      box-shadow: 0px 1px 3px 1px rgba(0, 0, 0, 0.15);\n",
              "      filter: drop-shadow(0px 1px 2px rgba(0, 0, 0, 0.3));\n",
              "      fill: #FFFFFF;\n",
              "    }\n",
              "  </style>\n",
              "\n",
              "      <script>\n",
              "        const buttonEl =\n",
              "          document.querySelector('#df-a2c5f491-fec0-49ae-b02b-26fcf4d83705 button.colab-df-convert');\n",
              "        buttonEl.style.display =\n",
              "          google.colab.kernel.accessAllowed ? 'block' : 'none';\n",
              "\n",
              "        async function convertToInteractive(key) {\n",
              "          const element = document.querySelector('#df-a2c5f491-fec0-49ae-b02b-26fcf4d83705');\n",
              "          const dataTable =\n",
              "            await google.colab.kernel.invokeFunction('convertToInteractive',\n",
              "                                                     [key], {});\n",
              "          if (!dataTable) return;\n",
              "\n",
              "          const docLinkHtml = 'Like what you see? Visit the ' +\n",
              "            '<a target=\"_blank\" href=https://colab.research.google.com/notebooks/data_table.ipynb>data table notebook</a>'\n",
              "            + ' to learn more about interactive tables.';\n",
              "          element.innerHTML = '';\n",
              "          dataTable['output_type'] = 'display_data';\n",
              "          await google.colab.output.renderOutput(dataTable, element);\n",
              "          const docLink = document.createElement('div');\n",
              "          docLink.innerHTML = docLinkHtml;\n",
              "          element.appendChild(docLink);\n",
              "        }\n",
              "      </script>\n",
              "    </div>\n",
              "  </div>\n",
              "  "
            ]
          },
          "metadata": {},
          "execution_count": 10
        }
      ],
      "source": [
        "income_death.corr()"
      ]
    },
    {
      "cell_type": "code",
      "execution_count": 11,
      "id": "b4695c45",
      "metadata": {
        "id": "b4695c45"
      },
      "outputs": [],
      "source": [
        "# income_incident.head()"
      ]
    },
    {
      "cell_type": "code",
      "execution_count": 12,
      "id": "788980a2",
      "metadata": {
        "id": "788980a2"
      },
      "outputs": [],
      "source": [
        "income_incident = income_incident.drop('County',axis=1)"
      ]
    },
    {
      "cell_type": "code",
      "execution_count": 13,
      "id": "cd3444d0",
      "metadata": {
        "id": "cd3444d0",
        "colab": {
          "base_uri": "https://localhost:8080/",
          "height": 0
        },
        "outputId": "b7ecdc27-c155-4283-a0d1-f5499c2bd106"
      },
      "outputs": [
        {
          "output_type": "execute_result",
          "data": {
            "text/plain": [
              "                             Median_Income_x  Age-Adjusted Incidence Rate  \\\n",
              "Median_Income_x                     1.000000                    -0.309317   \n",
              "Age-Adjusted Incidence Rate        -0.309317                     1.000000   \n",
              "Average Annual Count                0.352895                    -0.110913   \n",
              "Age-Adjusted Death Rate            -0.360187                     0.891397   \n",
              "Average Deaths per Year             0.342245                    -0.111130   \n",
              "\n",
              "                             Average Annual Count  Age-Adjusted Death Rate  \\\n",
              "Median_Income_x                          0.352895                -0.360187   \n",
              "Age-Adjusted Incidence Rate             -0.110913                 0.891397   \n",
              "Average Annual Count                     1.000000                -0.164815   \n",
              "Age-Adjusted Death Rate                 -0.164815                 1.000000   \n",
              "Average Deaths per Year                  0.997886                -0.155333   \n",
              "\n",
              "                             Average Deaths per Year  \n",
              "Median_Income_x                             0.342245  \n",
              "Age-Adjusted Incidence Rate                -0.111130  \n",
              "Average Annual Count                        0.997886  \n",
              "Age-Adjusted Death Rate                    -0.155333  \n",
              "Average Deaths per Year                     1.000000  "
            ],
            "text/html": [
              "\n",
              "  <div id=\"df-d0d529c1-6e98-47a4-8181-24ed37cace13\">\n",
              "    <div class=\"colab-df-container\">\n",
              "      <div>\n",
              "<style scoped>\n",
              "    .dataframe tbody tr th:only-of-type {\n",
              "        vertical-align: middle;\n",
              "    }\n",
              "\n",
              "    .dataframe tbody tr th {\n",
              "        vertical-align: top;\n",
              "    }\n",
              "\n",
              "    .dataframe thead th {\n",
              "        text-align: right;\n",
              "    }\n",
              "</style>\n",
              "<table border=\"1\" class=\"dataframe\">\n",
              "  <thead>\n",
              "    <tr style=\"text-align: right;\">\n",
              "      <th></th>\n",
              "      <th>Median_Income_x</th>\n",
              "      <th>Age-Adjusted Incidence Rate</th>\n",
              "      <th>Average Annual Count</th>\n",
              "      <th>Age-Adjusted Death Rate</th>\n",
              "      <th>Average Deaths per Year</th>\n",
              "    </tr>\n",
              "  </thead>\n",
              "  <tbody>\n",
              "    <tr>\n",
              "      <th>Median_Income_x</th>\n",
              "      <td>1.000000</td>\n",
              "      <td>-0.309317</td>\n",
              "      <td>0.352895</td>\n",
              "      <td>-0.360187</td>\n",
              "      <td>0.342245</td>\n",
              "    </tr>\n",
              "    <tr>\n",
              "      <th>Age-Adjusted Incidence Rate</th>\n",
              "      <td>-0.309317</td>\n",
              "      <td>1.000000</td>\n",
              "      <td>-0.110913</td>\n",
              "      <td>0.891397</td>\n",
              "      <td>-0.111130</td>\n",
              "    </tr>\n",
              "    <tr>\n",
              "      <th>Average Annual Count</th>\n",
              "      <td>0.352895</td>\n",
              "      <td>-0.110913</td>\n",
              "      <td>1.000000</td>\n",
              "      <td>-0.164815</td>\n",
              "      <td>0.997886</td>\n",
              "    </tr>\n",
              "    <tr>\n",
              "      <th>Age-Adjusted Death Rate</th>\n",
              "      <td>-0.360187</td>\n",
              "      <td>0.891397</td>\n",
              "      <td>-0.164815</td>\n",
              "      <td>1.000000</td>\n",
              "      <td>-0.155333</td>\n",
              "    </tr>\n",
              "    <tr>\n",
              "      <th>Average Deaths per Year</th>\n",
              "      <td>0.342245</td>\n",
              "      <td>-0.111130</td>\n",
              "      <td>0.997886</td>\n",
              "      <td>-0.155333</td>\n",
              "      <td>1.000000</td>\n",
              "    </tr>\n",
              "  </tbody>\n",
              "</table>\n",
              "</div>\n",
              "      <button class=\"colab-df-convert\" onclick=\"convertToInteractive('df-d0d529c1-6e98-47a4-8181-24ed37cace13')\"\n",
              "              title=\"Convert this dataframe to an interactive table.\"\n",
              "              style=\"display:none;\">\n",
              "        \n",
              "  <svg xmlns=\"http://www.w3.org/2000/svg\" height=\"24px\"viewBox=\"0 0 24 24\"\n",
              "       width=\"24px\">\n",
              "    <path d=\"M0 0h24v24H0V0z\" fill=\"none\"/>\n",
              "    <path d=\"M18.56 5.44l.94 2.06.94-2.06 2.06-.94-2.06-.94-.94-2.06-.94 2.06-2.06.94zm-11 1L8.5 8.5l.94-2.06 2.06-.94-2.06-.94L8.5 2.5l-.94 2.06-2.06.94zm10 10l.94 2.06.94-2.06 2.06-.94-2.06-.94-.94-2.06-.94 2.06-2.06.94z\"/><path d=\"M17.41 7.96l-1.37-1.37c-.4-.4-.92-.59-1.43-.59-.52 0-1.04.2-1.43.59L10.3 9.45l-7.72 7.72c-.78.78-.78 2.05 0 2.83L4 21.41c.39.39.9.59 1.41.59.51 0 1.02-.2 1.41-.59l7.78-7.78 2.81-2.81c.8-.78.8-2.07 0-2.86zM5.41 20L4 18.59l7.72-7.72 1.47 1.35L5.41 20z\"/>\n",
              "  </svg>\n",
              "      </button>\n",
              "      \n",
              "  <style>\n",
              "    .colab-df-container {\n",
              "      display:flex;\n",
              "      flex-wrap:wrap;\n",
              "      gap: 12px;\n",
              "    }\n",
              "\n",
              "    .colab-df-convert {\n",
              "      background-color: #E8F0FE;\n",
              "      border: none;\n",
              "      border-radius: 50%;\n",
              "      cursor: pointer;\n",
              "      display: none;\n",
              "      fill: #1967D2;\n",
              "      height: 32px;\n",
              "      padding: 0 0 0 0;\n",
              "      width: 32px;\n",
              "    }\n",
              "\n",
              "    .colab-df-convert:hover {\n",
              "      background-color: #E2EBFA;\n",
              "      box-shadow: 0px 1px 2px rgba(60, 64, 67, 0.3), 0px 1px 3px 1px rgba(60, 64, 67, 0.15);\n",
              "      fill: #174EA6;\n",
              "    }\n",
              "\n",
              "    [theme=dark] .colab-df-convert {\n",
              "      background-color: #3B4455;\n",
              "      fill: #D2E3FC;\n",
              "    }\n",
              "\n",
              "    [theme=dark] .colab-df-convert:hover {\n",
              "      background-color: #434B5C;\n",
              "      box-shadow: 0px 1px 3px 1px rgba(0, 0, 0, 0.15);\n",
              "      filter: drop-shadow(0px 1px 2px rgba(0, 0, 0, 0.3));\n",
              "      fill: #FFFFFF;\n",
              "    }\n",
              "  </style>\n",
              "\n",
              "      <script>\n",
              "        const buttonEl =\n",
              "          document.querySelector('#df-d0d529c1-6e98-47a4-8181-24ed37cace13 button.colab-df-convert');\n",
              "        buttonEl.style.display =\n",
              "          google.colab.kernel.accessAllowed ? 'block' : 'none';\n",
              "\n",
              "        async function convertToInteractive(key) {\n",
              "          const element = document.querySelector('#df-d0d529c1-6e98-47a4-8181-24ed37cace13');\n",
              "          const dataTable =\n",
              "            await google.colab.kernel.invokeFunction('convertToInteractive',\n",
              "                                                     [key], {});\n",
              "          if (!dataTable) return;\n",
              "\n",
              "          const docLinkHtml = 'Like what you see? Visit the ' +\n",
              "            '<a target=\"_blank\" href=https://colab.research.google.com/notebooks/data_table.ipynb>data table notebook</a>'\n",
              "            + ' to learn more about interactive tables.';\n",
              "          element.innerHTML = '';\n",
              "          dataTable['output_type'] = 'display_data';\n",
              "          await google.colab.output.renderOutput(dataTable, element);\n",
              "          const docLink = document.createElement('div');\n",
              "          docLink.innerHTML = docLinkHtml;\n",
              "          element.appendChild(docLink);\n",
              "        }\n",
              "      </script>\n",
              "    </div>\n",
              "  </div>\n",
              "  "
            ]
          },
          "metadata": {},
          "execution_count": 13
        }
      ],
      "source": [
        "incident_death.corr()                                                                                                                             "
      ]
    },
    {
      "cell_type": "markdown",
      "source": [
        "## COUNTY DATA"
      ],
      "metadata": {
        "id": "uiSS2QerDRPj"
      },
      "id": "uiSS2QerDRPj"
    },
    {
      "cell_type": "markdown",
      "source": [
        "## Input County name as 'County, State' ex: King County, Washington"
      ],
      "metadata": {
        "id": "gMJpTrisDHFN"
      },
      "id": "gMJpTrisDHFN"
    },
    {
      "cell_type": "markdown",
      "source": [
        "INPUT IS CASE SENSITIVE\n"
      ],
      "metadata": {
        "id": "8e3feyz1KlGr"
      },
      "id": "8e3feyz1KlGr"
    },
    {
      "cell_type": "code",
      "source": [
        "while True:             # Loop continuously\n",
        "    county = input('County Name: ')   # Get the input\n",
        "    if (incident_death['County'] == county).any():      # If it is in the column..\n",
        "        break\n",
        "    else:\n",
        "      print('County Not Found, please enter in a valid County')"
      ],
      "metadata": {
        "colab": {
          "base_uri": "https://localhost:8080/"
        },
        "id": "sGtTtHmP4qXS",
        "outputId": "aa9968a1-540d-4d0d-df0f-fa0e35cc830f"
      },
      "id": "sGtTtHmP4qXS",
      "execution_count": 14,
      "outputs": [
        {
          "name": "stdout",
          "output_type": "stream",
          "text": [
            "County Name: Pierce County, Washington\n"
          ]
        }
      ]
    },
    {
      "cell_type": "code",
      "source": [
        "input = incident_death.loc[incident_death['County'] == county ]"
      ],
      "metadata": {
        "id": "C9qm9-AR5G06"
      },
      "id": "C9qm9-AR5G06",
      "execution_count": 15,
      "outputs": []
    },
    {
      "cell_type": "markdown",
      "source": [
        "### County Data Summary:"
      ],
      "metadata": {
        "id": "JwhqKDm661_s"
      },
      "id": "JwhqKDm661_s"
    },
    {
      "cell_type": "code",
      "source": [
        "input"
      ],
      "metadata": {
        "colab": {
          "base_uri": "https://localhost:8080/",
          "height": 0
        },
        "id": "5oprMy-VG2VV",
        "outputId": "8d93d78b-fc10-47af-b450-0f8e98cb1767"
      },
      "id": "5oprMy-VG2VV",
      "execution_count": 16,
      "outputs": [
        {
          "output_type": "execute_result",
          "data": {
            "text/plain": [
              "                        County  Median_Income_x  Age-Adjusted Incidence Rate  \\\n",
              "890  Pierce County, Washington          65475.6                         76.1   \n",
              "\n",
              "     Average Annual Count  Age-Adjusted Death Rate  Average Deaths per Year  \n",
              "890                   590                     51.6                      396  "
            ],
            "text/html": [
              "\n",
              "  <div id=\"df-6c7a6ef6-e51c-4b19-918a-a62bc004c7d9\">\n",
              "    <div class=\"colab-df-container\">\n",
              "      <div>\n",
              "<style scoped>\n",
              "    .dataframe tbody tr th:only-of-type {\n",
              "        vertical-align: middle;\n",
              "    }\n",
              "\n",
              "    .dataframe tbody tr th {\n",
              "        vertical-align: top;\n",
              "    }\n",
              "\n",
              "    .dataframe thead th {\n",
              "        text-align: right;\n",
              "    }\n",
              "</style>\n",
              "<table border=\"1\" class=\"dataframe\">\n",
              "  <thead>\n",
              "    <tr style=\"text-align: right;\">\n",
              "      <th></th>\n",
              "      <th>County</th>\n",
              "      <th>Median_Income_x</th>\n",
              "      <th>Age-Adjusted Incidence Rate</th>\n",
              "      <th>Average Annual Count</th>\n",
              "      <th>Age-Adjusted Death Rate</th>\n",
              "      <th>Average Deaths per Year</th>\n",
              "    </tr>\n",
              "  </thead>\n",
              "  <tbody>\n",
              "    <tr>\n",
              "      <th>890</th>\n",
              "      <td>Pierce County, Washington</td>\n",
              "      <td>65475.6</td>\n",
              "      <td>76.1</td>\n",
              "      <td>590</td>\n",
              "      <td>51.6</td>\n",
              "      <td>396</td>\n",
              "    </tr>\n",
              "  </tbody>\n",
              "</table>\n",
              "</div>\n",
              "      <button class=\"colab-df-convert\" onclick=\"convertToInteractive('df-6c7a6ef6-e51c-4b19-918a-a62bc004c7d9')\"\n",
              "              title=\"Convert this dataframe to an interactive table.\"\n",
              "              style=\"display:none;\">\n",
              "        \n",
              "  <svg xmlns=\"http://www.w3.org/2000/svg\" height=\"24px\"viewBox=\"0 0 24 24\"\n",
              "       width=\"24px\">\n",
              "    <path d=\"M0 0h24v24H0V0z\" fill=\"none\"/>\n",
              "    <path d=\"M18.56 5.44l.94 2.06.94-2.06 2.06-.94-2.06-.94-.94-2.06-.94 2.06-2.06.94zm-11 1L8.5 8.5l.94-2.06 2.06-.94-2.06-.94L8.5 2.5l-.94 2.06-2.06.94zm10 10l.94 2.06.94-2.06 2.06-.94-2.06-.94-.94-2.06-.94 2.06-2.06.94z\"/><path d=\"M17.41 7.96l-1.37-1.37c-.4-.4-.92-.59-1.43-.59-.52 0-1.04.2-1.43.59L10.3 9.45l-7.72 7.72c-.78.78-.78 2.05 0 2.83L4 21.41c.39.39.9.59 1.41.59.51 0 1.02-.2 1.41-.59l7.78-7.78 2.81-2.81c.8-.78.8-2.07 0-2.86zM5.41 20L4 18.59l7.72-7.72 1.47 1.35L5.41 20z\"/>\n",
              "  </svg>\n",
              "      </button>\n",
              "      \n",
              "  <style>\n",
              "    .colab-df-container {\n",
              "      display:flex;\n",
              "      flex-wrap:wrap;\n",
              "      gap: 12px;\n",
              "    }\n",
              "\n",
              "    .colab-df-convert {\n",
              "      background-color: #E8F0FE;\n",
              "      border: none;\n",
              "      border-radius: 50%;\n",
              "      cursor: pointer;\n",
              "      display: none;\n",
              "      fill: #1967D2;\n",
              "      height: 32px;\n",
              "      padding: 0 0 0 0;\n",
              "      width: 32px;\n",
              "    }\n",
              "\n",
              "    .colab-df-convert:hover {\n",
              "      background-color: #E2EBFA;\n",
              "      box-shadow: 0px 1px 2px rgba(60, 64, 67, 0.3), 0px 1px 3px 1px rgba(60, 64, 67, 0.15);\n",
              "      fill: #174EA6;\n",
              "    }\n",
              "\n",
              "    [theme=dark] .colab-df-convert {\n",
              "      background-color: #3B4455;\n",
              "      fill: #D2E3FC;\n",
              "    }\n",
              "\n",
              "    [theme=dark] .colab-df-convert:hover {\n",
              "      background-color: #434B5C;\n",
              "      box-shadow: 0px 1px 3px 1px rgba(0, 0, 0, 0.15);\n",
              "      filter: drop-shadow(0px 1px 2px rgba(0, 0, 0, 0.3));\n",
              "      fill: #FFFFFF;\n",
              "    }\n",
              "  </style>\n",
              "\n",
              "      <script>\n",
              "        const buttonEl =\n",
              "          document.querySelector('#df-6c7a6ef6-e51c-4b19-918a-a62bc004c7d9 button.colab-df-convert');\n",
              "        buttonEl.style.display =\n",
              "          google.colab.kernel.accessAllowed ? 'block' : 'none';\n",
              "\n",
              "        async function convertToInteractive(key) {\n",
              "          const element = document.querySelector('#df-6c7a6ef6-e51c-4b19-918a-a62bc004c7d9');\n",
              "          const dataTable =\n",
              "            await google.colab.kernel.invokeFunction('convertToInteractive',\n",
              "                                                     [key], {});\n",
              "          if (!dataTable) return;\n",
              "\n",
              "          const docLinkHtml = 'Like what you see? Visit the ' +\n",
              "            '<a target=\"_blank\" href=https://colab.research.google.com/notebooks/data_table.ipynb>data table notebook</a>'\n",
              "            + ' to learn more about interactive tables.';\n",
              "          element.innerHTML = '';\n",
              "          dataTable['output_type'] = 'display_data';\n",
              "          await google.colab.output.renderOutput(dataTable, element);\n",
              "          const docLink = document.createElement('div');\n",
              "          docLink.innerHTML = docLinkHtml;\n",
              "          element.appendChild(docLink);\n",
              "        }\n",
              "      </script>\n",
              "    </div>\n",
              "  </div>\n",
              "  "
            ]
          },
          "metadata": {},
          "execution_count": 16
        }
      ]
    },
    {
      "cell_type": "code",
      "execution_count": 17,
      "id": "f1faa5fd",
      "metadata": {
        "id": "f1faa5fd"
      },
      "outputs": [],
      "source": [
        "incident_death = incident_death.drop('County',axis=1)"
      ]
    },
    {
      "cell_type": "markdown",
      "source": [
        "## Machine Learning Section"
      ],
      "metadata": {
        "id": "z-dX7s4CkvUz"
      },
      "id": "z-dX7s4CkvUz"
    },
    {
      "cell_type": "markdown",
      "id": "33871553",
      "metadata": {
        "id": "33871553"
      },
      "source": [
        "Define x and y"
      ]
    },
    {
      "cell_type": "code",
      "execution_count": 18,
      "id": "722e0409",
      "metadata": {
        "id": "722e0409"
      },
      "outputs": [],
      "source": [
        "# Independent Variable x and Dependent Variable y"
      ]
    },
    {
      "cell_type": "code",
      "execution_count": 19,
      "id": "76efd5fe",
      "metadata": {
        "id": "76efd5fe"
      },
      "outputs": [],
      "source": [
        "x=incident_death.drop(['Age-Adjusted Death Rate'],axis=1).values"
      ]
    },
    {
      "cell_type": "code",
      "execution_count": 20,
      "id": "a6d1a6fa",
      "metadata": {
        "id": "a6d1a6fa"
      },
      "outputs": [],
      "source": [
        "y=incident_death['Age-Adjusted Death Rate'].values"
      ]
    },
    {
      "cell_type": "code",
      "execution_count": 21,
      "id": "18e6ccf5",
      "metadata": {
        "id": "18e6ccf5"
      },
      "outputs": [],
      "source": [
        "#print(x)"
      ]
    },
    {
      "cell_type": "code",
      "execution_count": 22,
      "id": "1f1428b6",
      "metadata": {
        "id": "1f1428b6"
      },
      "outputs": [],
      "source": [
        "#print(y)"
      ]
    },
    {
      "cell_type": "markdown",
      "id": "9835045a",
      "metadata": {
        "id": "9835045a"
      },
      "source": [
        "Split the dataset in training set and test set"
      ]
    },
    {
      "cell_type": "code",
      "execution_count": 23,
      "id": "1db8a122",
      "metadata": {
        "id": "1db8a122"
      },
      "outputs": [],
      "source": [
        "from sklearn.model_selection import train_test_split\n",
        "x_train,x_test,y_train,y_test = train_test_split(x,y, test_size=0.3,random_state=0)"
      ]
    },
    {
      "cell_type": "markdown",
      "id": "56b66859",
      "metadata": {
        "id": "56b66859"
      },
      "source": [
        "Train the model on the training set"
      ]
    },
    {
      "cell_type": "code",
      "execution_count": 24,
      "id": "c77c6815",
      "metadata": {
        "id": "c77c6815",
        "colab": {
          "base_uri": "https://localhost:8080/"
        },
        "outputId": "7fe7fcc8-2fed-4dbe-bce0-eee356e74dba"
      },
      "outputs": [
        {
          "output_type": "execute_result",
          "data": {
            "text/plain": [
              "LinearRegression()"
            ]
          },
          "metadata": {},
          "execution_count": 24
        }
      ],
      "source": [
        "from sklearn.linear_model import LinearRegression\n",
        "ml = LinearRegression()\n",
        "ml.fit(x_train,y_train)"
      ]
    },
    {
      "cell_type": "markdown",
      "id": "e2c2b685",
      "metadata": {
        "id": "e2c2b685"
      },
      "source": [
        "Predict the test set results"
      ]
    },
    {
      "cell_type": "code",
      "execution_count": 25,
      "id": "92299a97",
      "metadata": {
        "id": "92299a97"
      },
      "outputs": [],
      "source": [
        "y_pred=ml.predict(x_test)\n",
        "#print(y_pred)"
      ]
    },
    {
      "cell_type": "markdown",
      "source": [
        "Predict Using Values from incident_death"
      ],
      "metadata": {
        "id": "fRPA0IBB4XxM"
      },
      "id": "fRPA0IBB4XxM"
    },
    {
      "cell_type": "code",
      "source": [
        "input = input.drop(['County'],axis=1)"
      ],
      "metadata": {
        "id": "3dPb_rUB6e55"
      },
      "id": "3dPb_rUB6e55",
      "execution_count": 26,
      "outputs": []
    },
    {
      "cell_type": "markdown",
      "source": [
        "Chosen County Data"
      ],
      "metadata": {
        "id": "2c08YZD_9N1g"
      },
      "id": "2c08YZD_9N1g"
    },
    {
      "cell_type": "code",
      "source": [
        "# input"
      ],
      "metadata": {
        "id": "mSu6OAG6Grwv"
      },
      "id": "mSu6OAG6Grwv",
      "execution_count": 27,
      "outputs": []
    },
    {
      "cell_type": "code",
      "source": [
        "val = input.drop(['Age-Adjusted Death Rate'],axis=1).values"
      ],
      "metadata": {
        "id": "W5a9lcXY6WmI"
      },
      "id": "W5a9lcXY6WmI",
      "execution_count": 28,
      "outputs": []
    },
    {
      "cell_type": "code",
      "source": [
        "# val"
      ],
      "metadata": {
        "id": "p0ACpRLh3NwL"
      },
      "id": "p0ACpRLh3NwL",
      "execution_count": 29,
      "outputs": []
    },
    {
      "cell_type": "markdown",
      "source": [
        "Predicted Death Rate"
      ],
      "metadata": {
        "id": "8R2gtTi09giA"
      },
      "id": "8R2gtTi09giA"
    },
    {
      "cell_type": "code",
      "execution_count": 30,
      "id": "e9e47e65",
      "metadata": {
        "id": "e9e47e65"
      },
      "outputs": [],
      "source": [
        "# ml.predict(val)"
      ]
    },
    {
      "cell_type": "code",
      "source": [
        "prediction = np.array2string(ml.predict(val)[0])"
      ],
      "metadata": {
        "id": "Mqo_hRCTgOZm"
      },
      "id": "Mqo_hRCTgOZm",
      "execution_count": 31,
      "outputs": []
    },
    {
      "cell_type": "markdown",
      "id": "d52b06e3",
      "metadata": {
        "id": "d52b06e3"
      },
      "source": [
        "Evaluate the model"
      ]
    },
    {
      "cell_type": "code",
      "execution_count": 32,
      "id": "922b68b2",
      "metadata": {
        "id": "922b68b2"
      },
      "outputs": [],
      "source": [
        "from sklearn.metrics import r2_score\n",
        "score = r2_score(y_test,y_pred)"
      ]
    },
    {
      "cell_type": "markdown",
      "id": "aff0a32c",
      "metadata": {
        "id": "aff0a32c"
      },
      "source": [
        "Prediction Results:"
      ]
    },
    {
      "cell_type": "code",
      "execution_count": 33,
      "id": "7e957b42",
      "metadata": {
        "id": "7e957b42",
        "colab": {
          "base_uri": "https://localhost:8080/",
          "height": 638
        },
        "outputId": "b7c50242-a53f-4175-c4d1-ebacd61bd9d3"
      },
      "outputs": [
        {
          "output_type": "execute_result",
          "data": {
            "text/plain": [
              "Text(0.5, 1.0, 'Actual vs, Predicted')"
            ]
          },
          "metadata": {},
          "execution_count": 33
        },
        {
          "output_type": "display_data",
          "data": {
            "text/plain": [
              "<Figure size 1080x720 with 1 Axes>"
            ],
            "image/png": "[encoded data removed]"
          },
          "metadata": {
            "needs_background": "light"
          }
        }
      ],
      "source": [
        "plt.figure(figsize=(15,10))\n",
        "plt.scatter(y_test,y_pred)\n",
        "plt.xlabel('Actual')\n",
        "plt.ylabel('Predicted')\n",
        "plt.title('Actual vs, Predicted')"
      ]
    },
    {
      "cell_type": "code",
      "execution_count": 34,
      "id": "3ea7a22d",
      "metadata": {
        "scrolled": true,
        "id": "3ea7a22d",
        "colab": {
          "base_uri": "https://localhost:8080/",
          "height": 206
        },
        "outputId": "82552475-152e-43d8-e0fc-25eff0d1a1ee"
      },
      "outputs": [
        {
          "output_type": "execute_result",
          "data": {
            "text/plain": [
              "   Actual Value  Predicted Value  Difference\n",
              "0          64.5        68.192277   -3.692277\n",
              "1          51.5        53.934093   -2.434093\n",
              "2          63.1        58.560505    4.539495\n",
              "3          39.0        42.388783   -3.388783\n",
              "4          50.3        49.757461    0.542539"
            ],
            "text/html": [
              "\n",
              "  <div id=\"df-c06afb1a-6a14-47e6-bfe1-b2838df5a070\">\n",
              "    <div class=\"colab-df-container\">\n",
              "      <div>\n",
              "<style scoped>\n",
              "    .dataframe tbody tr th:only-of-type {\n",
              "        vertical-align: middle;\n",
              "    }\n",
              "\n",
              "    .dataframe tbody tr th {\n",
              "        vertical-align: top;\n",
              "    }\n",
              "\n",
              "    .dataframe thead th {\n",
              "        text-align: right;\n",
              "    }\n",
              "</style>\n",
              "<table border=\"1\" class=\"dataframe\">\n",
              "  <thead>\n",
              "    <tr style=\"text-align: right;\">\n",
              "      <th></th>\n",
              "      <th>Actual Value</th>\n",
              "      <th>Predicted Value</th>\n",
              "      <th>Difference</th>\n",
              "    </tr>\n",
              "  </thead>\n",
              "  <tbody>\n",
              "    <tr>\n",
              "      <th>0</th>\n",
              "      <td>64.5</td>\n",
              "      <td>68.192277</td>\n",
              "      <td>-3.692277</td>\n",
              "    </tr>\n",
              "    <tr>\n",
              "      <th>1</th>\n",
              "      <td>51.5</td>\n",
              "      <td>53.934093</td>\n",
              "      <td>-2.434093</td>\n",
              "    </tr>\n",
              "    <tr>\n",
              "      <th>2</th>\n",
              "      <td>63.1</td>\n",
              "      <td>58.560505</td>\n",
              "      <td>4.539495</td>\n",
              "    </tr>\n",
              "    <tr>\n",
              "      <th>3</th>\n",
              "      <td>39.0</td>\n",
              "      <td>42.388783</td>\n",
              "      <td>-3.388783</td>\n",
              "    </tr>\n",
              "    <tr>\n",
              "      <th>4</th>\n",
              "      <td>50.3</td>\n",
              "      <td>49.757461</td>\n",
              "      <td>0.542539</td>\n",
              "    </tr>\n",
              "  </tbody>\n",
              "</table>\n",
              "</div>\n",
              "      <button class=\"colab-df-convert\" onclick=\"convertToInteractive('df-c06afb1a-6a14-47e6-bfe1-b2838df5a070')\"\n",
              "              title=\"Convert this dataframe to an interactive table.\"\n",
              "              style=\"display:none;\">\n",
              "        \n",
              "  <svg xmlns=\"http://www.w3.org/2000/svg\" height=\"24px\"viewBox=\"0 0 24 24\"\n",
              "       width=\"24px\">\n",
              "    <path d=\"M0 0h24v24H0V0z\" fill=\"none\"/>\n",
              "    <path d=\"M18.56 5.44l.94 2.06.94-2.06 2.06-.94-2.06-.94-.94-2.06-.94 2.06-2.06.94zm-11 1L8.5 8.5l.94-2.06 2.06-.94-2.06-.94L8.5 2.5l-.94 2.06-2.06.94zm10 10l.94 2.06.94-2.06 2.06-.94-2.06-.94-.94-2.06-.94 2.06-2.06.94z\"/><path d=\"M17.41 7.96l-1.37-1.37c-.4-.4-.92-.59-1.43-.59-.52 0-1.04.2-1.43.59L10.3 9.45l-7.72 7.72c-.78.78-.78 2.05 0 2.83L4 21.41c.39.39.9.59 1.41.59.51 0 1.02-.2 1.41-.59l7.78-7.78 2.81-2.81c.8-.78.8-2.07 0-2.86zM5.41 20L4 18.59l7.72-7.72 1.47 1.35L5.41 20z\"/>\n",
              "  </svg>\n",
              "      </button>\n",
              "      \n",
              "  <style>\n",
              "    .colab-df-container {\n",
              "      display:flex;\n",
              "      flex-wrap:wrap;\n",
              "      gap: 12px;\n",
              "    }\n",
              "\n",
              "    .colab-df-convert {\n",
              "      background-color: #E8F0FE;\n",
              "      border: none;\n",
              "      border-radius: 50%;\n",
              "      cursor: pointer;\n",
              "      display: none;\n",
              "      fill: #1967D2;\n",
              "      height: 32px;\n",
              "      padding: 0 0 0 0;\n",
              "      width: 32px;\n",
              "    }\n",
              "\n",
              "    .colab-df-convert:hover {\n",
              "      background-color: #E2EBFA;\n",
              "      box-shadow: 0px 1px 2px rgba(60, 64, 67, 0.3), 0px 1px 3px 1px rgba(60, 64, 67, 0.15);\n",
              "      fill: #174EA6;\n",
              "    }\n",
              "\n",
              "    [theme=dark] .colab-df-convert {\n",
              "      background-color: #3B4455;\n",
              "      fill: #D2E3FC;\n",
              "    }\n",
              "\n",
              "    [theme=dark] .colab-df-convert:hover {\n",
              "      background-color: #434B5C;\n",
              "      box-shadow: 0px 1px 3px 1px rgba(0, 0, 0, 0.15);\n",
              "      filter: drop-shadow(0px 1px 2px rgba(0, 0, 0, 0.3));\n",
              "      fill: #FFFFFF;\n",
              "    }\n",
              "  </style>\n",
              "\n",
              "      <script>\n",
              "        const buttonEl =\n",
              "          document.querySelector('#df-c06afb1a-6a14-47e6-bfe1-b2838df5a070 button.colab-df-convert');\n",
              "        buttonEl.style.display =\n",
              "          google.colab.kernel.accessAllowed ? 'block' : 'none';\n",
              "\n",
              "        async function convertToInteractive(key) {\n",
              "          const element = document.querySelector('#df-c06afb1a-6a14-47e6-bfe1-b2838df5a070');\n",
              "          const dataTable =\n",
              "            await google.colab.kernel.invokeFunction('convertToInteractive',\n",
              "                                                     [key], {});\n",
              "          if (!dataTable) return;\n",
              "\n",
              "          const docLinkHtml = 'Like what you see? Visit the ' +\n",
              "            '<a target=\"_blank\" href=https://colab.research.google.com/notebooks/data_table.ipynb>data table notebook</a>'\n",
              "            + ' to learn more about interactive tables.';\n",
              "          element.innerHTML = '';\n",
              "          dataTable['output_type'] = 'display_data';\n",
              "          await google.colab.output.renderOutput(dataTable, element);\n",
              "          const docLink = document.createElement('div');\n",
              "          docLink.innerHTML = docLinkHtml;\n",
              "          element.appendChild(docLink);\n",
              "        }\n",
              "      </script>\n",
              "    </div>\n",
              "  </div>\n",
              "  "
            ]
          },
          "metadata": {},
          "execution_count": 34
        }
      ],
      "source": [
        "pred_y_df = pd.DataFrame({'Actual Value':y_test,'Predicted Value':y_pred,'Difference': y_test-y_pred})\n",
        "pred_y_df[0:5]"
      ]
    },
    {
      "cell_type": "markdown",
      "source": [
        "## Program Results:"
      ],
      "metadata": {
        "id": "YN7vjDPO3iAO"
      },
      "id": "YN7vjDPO3iAO"
    },
    {
      "cell_type": "code",
      "source": [
        "print('Chosen County: ' + county)"
      ],
      "metadata": {
        "colab": {
          "base_uri": "https://localhost:8080/"
        },
        "id": "xrE2l0-BuRbD",
        "outputId": "b9a2da85-1353-46e7-b583-9d28bf96bf23"
      },
      "id": "xrE2l0-BuRbD",
      "execution_count": 35,
      "outputs": [
        {
          "output_type": "stream",
          "name": "stdout",
          "text": [
            "Chosen County: Pierce County, Washington\n"
          ]
        }
      ]
    },
    {
      "cell_type": "code",
      "source": [
        "print('Predicted Death Rate of ' + county + ': ' + prediction)"
      ],
      "metadata": {
        "colab": {
          "base_uri": "https://localhost:8080/"
        },
        "id": "QmOz7dme3wPL",
        "outputId": "58c04e73-e5ce-4acb-c146-9fb5e623ba43"
      },
      "id": "QmOz7dme3wPL",
      "execution_count": 36,
      "outputs": [
        {
          "output_type": "stream",
          "name": "stdout",
          "text": [
            "Predicted Death Rate of Pierce County, Washington: 49.61241822\n"
          ]
        }
      ]
    },
    {
      "cell_type": "code",
      "source": [
        "print('Prediction Accuracy: ' + str(score))"
      ],
      "metadata": {
        "colab": {
          "base_uri": "https://localhost:8080/"
        },
        "id": "nnyaYhdRuQJB",
        "outputId": "f434868b-f800-4ffc-80bf-138fe54d6e98"
      },
      "id": "nnyaYhdRuQJB",
      "execution_count": 37,
      "outputs": [
        {
          "output_type": "stream",
          "name": "stdout",
          "text": [
            "Prediction Accuracy: 0.8245352983243797\n"
          ]
        }
      ]
    },
    {
      "cell_type": "code",
      "source": [],
      "metadata": {
        "id": "o6NAZ4E0vFsq"
      },
      "id": "o6NAZ4E0vFsq",
      "execution_count": 37,
      "outputs": []
    }
  ],
  "metadata": {
    "kernelspec": {
      "display_name": "Python 3 (ipykernel)",
      "language": "python",
      "name": "python3"
    },
    "language_info": {
      "codemirror_mode": {
        "name": "ipython",
        "version": 3
      },
      "file_extension": ".py",
      "mimetype": "text/x-python",
      "name": "python",
      "nbconvert_exporter": "python",
      "pygments_lexer": "ipython3",
      "version": "3.9.13"
    },
    "colab": {
      "provenance": [],
      "collapsed_sections": [
        "0_MegCLRwmP6",
        "80cd6970",
        "Bw7YI2KL45_Q",
        "269e0553",
        "JLnN0jR6ws5T",
        "0NlwC_gNjMlz",
        "g2dtL1hQi3kd",
        "ud6dRxiCurqK",
        "JwhqKDm661_s"
      ],
      "include_colab_link": true
    },
    "gpuClass": "standard"
  },
  "nbformat": 4,
  "nbformat_minor": 5
}