{
 "cells": [
  {
   "cell_type": "markdown",
   "id": "80cd6970",
   "metadata": {},
   "source": [
    "## Import Libraries"
   ]
  },
  {
   "cell_type": "code",
   "execution_count": 1,
   "id": "3f678891",
   "metadata": {},
   "outputs": [],
   "source": [
    "import numpy as np\n",
    "import pandas as pd\n",
    "import matplotlib.pyplot as plt\n",
    "import seaborn as sns"
   ]
  },
  {
   "cell_type": "markdown",
   "id": "269e0553",
   "metadata": {},
   "source": [
    "## Import dataset"
   ]
  },
  {
   "cell_type": "code",
   "execution_count": 2,
   "id": "a2f4699c",
   "metadata": {},
   "outputs": [],
   "source": [
    "income_death = pd.read_csv('income_death_data.csv')\n",
    "income_incident = pd.read_csv('income_incident_data.csv')\n",
    "incident_death = pd.read_csv('incident_death_data.csv')"
   ]
  },
  {
   "cell_type": "code",
   "execution_count": 3,
   "id": "18aa06a1",
   "metadata": {},
   "outputs": [
    {
     "data": {
      "text/html": [
       "<div>\n",
       "<style scoped>\n",
       "    .dataframe tbody tr th:only-of-type {\n",
       "        vertical-align: middle;\n",
       "    }\n",
       "\n",
       "    .dataframe tbody tr th {\n",
       "        vertical-align: top;\n",
       "    }\n",
       "\n",
       "    .dataframe thead th {\n",
       "        text-align: right;\n",
       "    }\n",
       "</style>\n",
       "<table border=\"1\" class=\"dataframe\">\n",
       "  <thead>\n",
       "    <tr style=\"text-align: right;\">\n",
       "      <th></th>\n",
       "      <th>County</th>\n",
       "      <th>Median_Income</th>\n",
       "      <th>Age-Adjusted Death Rate</th>\n",
       "      <th>Average Deaths per Year</th>\n",
       "    </tr>\n",
       "  </thead>\n",
       "  <tbody>\n",
       "    <tr>\n",
       "      <th>0</th>\n",
       "      <td>Abbeville County, South Carolina</td>\n",
       "      <td>43326.849462</td>\n",
       "      <td>57.6</td>\n",
       "      <td>20</td>\n",
       "    </tr>\n",
       "    <tr>\n",
       "      <th>1</th>\n",
       "      <td>Acadia Parish, Louisiana</td>\n",
       "      <td>42345.339623</td>\n",
       "      <td>68.6</td>\n",
       "      <td>46</td>\n",
       "    </tr>\n",
       "    <tr>\n",
       "      <th>2</th>\n",
       "      <td>Accomack County, Virginia</td>\n",
       "      <td>65267.573826</td>\n",
       "      <td>76.7</td>\n",
       "      <td>38</td>\n",
       "    </tr>\n",
       "    <tr>\n",
       "      <th>3</th>\n",
       "      <td>Ada County, Idaho</td>\n",
       "      <td>45272.370370</td>\n",
       "      <td>37.6</td>\n",
       "      <td>136</td>\n",
       "    </tr>\n",
       "    <tr>\n",
       "      <th>4</th>\n",
       "      <td>Adair County, Iowa</td>\n",
       "      <td>53179.632258</td>\n",
       "      <td>42.3</td>\n",
       "      <td>5</td>\n",
       "    </tr>\n",
       "  </tbody>\n",
       "</table>\n",
       "</div>"
      ],
      "text/plain": [
       "                             County  Median_Income  Age-Adjusted Death Rate  \\\n",
       "0  Abbeville County, South Carolina   43326.849462                     57.6   \n",
       "1          Acadia Parish, Louisiana   42345.339623                     68.6   \n",
       "2         Accomack County, Virginia   65267.573826                     76.7   \n",
       "3                 Ada County, Idaho   45272.370370                     37.6   \n",
       "4                Adair County, Iowa   53179.632258                     42.3   \n",
       "\n",
       "   Average Deaths per Year  \n",
       "0                       20  \n",
       "1                       46  \n",
       "2                       38  \n",
       "3                      136  \n",
       "4                        5  "
      ]
     },
     "execution_count": 3,
     "metadata": {},
     "output_type": "execute_result"
    }
   ],
   "source": [
    "income_death.head()"
   ]
  },
  {
   "cell_type": "code",
   "execution_count": 4,
   "id": "80a0b007",
   "metadata": {},
   "outputs": [],
   "source": [
    "high_risk = income_death.sort_values('Age-Adjusted Death Rate',ascending=False).head()"
   ]
  },
  {
   "cell_type": "code",
   "execution_count": 5,
   "id": "b3ed5440",
   "metadata": {
    "scrolled": true
   },
   "outputs": [],
   "source": [
    "high_risk = high_risk.drop('Median_Income',axis=1)\n",
    "high_risk = high_risk.drop('Average Deaths per Year',axis=1)"
   ]
  },
  {
   "cell_type": "code",
   "execution_count": 6,
   "id": "e66530ff",
   "metadata": {},
   "outputs": [
    {
     "data": {
      "text/html": [
       "<div>\n",
       "<style scoped>\n",
       "    .dataframe tbody tr th:only-of-type {\n",
       "        vertical-align: middle;\n",
       "    }\n",
       "\n",
       "    .dataframe tbody tr th {\n",
       "        vertical-align: top;\n",
       "    }\n",
       "\n",
       "    .dataframe thead th {\n",
       "        text-align: right;\n",
       "    }\n",
       "</style>\n",
       "<table border=\"1\" class=\"dataframe\">\n",
       "  <thead>\n",
       "    <tr style=\"text-align: right;\">\n",
       "      <th></th>\n",
       "      <th>County</th>\n",
       "      <th>Age-Adjusted Death Rate</th>\n",
       "    </tr>\n",
       "  </thead>\n",
       "  <tbody>\n",
       "    <tr>\n",
       "      <th>910</th>\n",
       "      <td>North Slope Borough, Alaska</td>\n",
       "      <td>124.9</td>\n",
       "    </tr>\n",
       "    <tr>\n",
       "      <th>1010</th>\n",
       "      <td>Polk County, Tennessee</td>\n",
       "      <td>103.3</td>\n",
       "    </tr>\n",
       "    <tr>\n",
       "      <th>418</th>\n",
       "      <td>Floyd County, Kentucky</td>\n",
       "      <td>98.7</td>\n",
       "    </tr>\n",
       "    <tr>\n",
       "      <th>832</th>\n",
       "      <td>Mississippi County, Missouri</td>\n",
       "      <td>97.2</td>\n",
       "    </tr>\n",
       "    <tr>\n",
       "      <th>908</th>\n",
       "      <td>Nome Census Area, Alaska</td>\n",
       "      <td>96.1</td>\n",
       "    </tr>\n",
       "  </tbody>\n",
       "</table>\n",
       "</div>"
      ],
      "text/plain": [
       "                            County  Age-Adjusted Death Rate\n",
       "910    North Slope Borough, Alaska                    124.9\n",
       "1010        Polk County, Tennessee                    103.3\n",
       "418         Floyd County, Kentucky                     98.7\n",
       "832   Mississippi County, Missouri                     97.2\n",
       "908       Nome Census Area, Alaska                     96.1"
      ]
     },
     "execution_count": 6,
     "metadata": {},
     "output_type": "execute_result"
    }
   ],
   "source": [
    "high_risk"
   ]
  },
  {
   "cell_type": "code",
   "execution_count": 7,
   "id": "5917798e",
   "metadata": {},
   "outputs": [],
   "source": [
    "income_death = income_death.drop('County',axis=1)"
   ]
  },
  {
   "cell_type": "code",
   "execution_count": 8,
   "id": "8a79476e",
   "metadata": {},
   "outputs": [
    {
     "data": {
      "text/plain": [
       "<seaborn.axisgrid.PairGrid at 0x23bfc63c4f0>"
      ]
     },
     "execution_count": 8,
     "metadata": {},
     "output_type": "execute_result"
    },
    {
     "data": {
      "image/png": "[encoded data removed]",
      "text/plain": [
       "<Figure size 750x750 with 12 Axes>"
      ]
     },
     "metadata": {},
     "output_type": "display_data"
    }
   ],
   "source": [
    "sns.pairplot(income_death)"
   ]
  },
  {
   "cell_type": "code",
   "execution_count": 9,
   "id": "084352d2",
   "metadata": {},
   "outputs": [],
   "source": [
    "sns.displot(x='Median_Income',data=income_death,kde=True,bins=100);"
   ]
  },
  {
   "cell_type": "code",
   "execution_count": 10,
   "id": "ede78015",
   "metadata": {},
   "outputs": [],
   "source": [
    "sns.scatterplot(x='Median_Income',y='Average Deaths per Year',data=income_death);"
   ]
  },
  {
   "cell_type": "code",
   "execution_count": null,
   "id": "ba4f4968",
   "metadata": {},
   "outputs": [],
   "source": []
  },
  {
   "cell_type": "code",
   "execution_count": 11,
   "id": "35928886",
   "metadata": {},
   "outputs": [],
   "source": [
    "sns.scatterplot(x='Median_Income',y='Age-Adjusted Death Rate',data=income_death);"
   ]
  },
  {
   "cell_type": "code",
   "execution_count": 12,
   "id": "b52882bf",
   "metadata": {},
   "outputs": [
    {
     "data": {
      "text/html": [
       "<div>\n",
       "<style scoped>\n",
       "    .dataframe tbody tr th:only-of-type {\n",
       "        vertical-align: middle;\n",
       "    }\n",
       "\n",
       "    .dataframe tbody tr th {\n",
       "        vertical-align: top;\n",
       "    }\n",
       "\n",
       "    .dataframe thead th {\n",
       "        text-align: right;\n",
       "    }\n",
       "</style>\n",
       "<table border=\"1\" class=\"dataframe\">\n",
       "  <thead>\n",
       "    <tr style=\"text-align: right;\">\n",
       "      <th></th>\n",
       "      <th>Median_Income</th>\n",
       "      <th>Age-Adjusted Death Rate</th>\n",
       "      <th>Average Deaths per Year</th>\n",
       "    </tr>\n",
       "  </thead>\n",
       "  <tbody>\n",
       "    <tr>\n",
       "      <th>Median_Income</th>\n",
       "      <td>1.000000</td>\n",
       "      <td>-0.354285</td>\n",
       "      <td>0.338089</td>\n",
       "    </tr>\n",
       "    <tr>\n",
       "      <th>Age-Adjusted Death Rate</th>\n",
       "      <td>-0.354285</td>\n",
       "      <td>1.000000</td>\n",
       "      <td>-0.145618</td>\n",
       "    </tr>\n",
       "    <tr>\n",
       "      <th>Average Deaths per Year</th>\n",
       "      <td>0.338089</td>\n",
       "      <td>-0.145618</td>\n",
       "      <td>1.000000</td>\n",
       "    </tr>\n",
       "  </tbody>\n",
       "</table>\n",
       "</div>"
      ],
      "text/plain": [
       "                         Median_Income  Age-Adjusted Death Rate  \\\n",
       "Median_Income                 1.000000                -0.354285   \n",
       "Age-Adjusted Death Rate      -0.354285                 1.000000   \n",
       "Average Deaths per Year       0.338089                -0.145618   \n",
       "\n",
       "                         Average Deaths per Year  \n",
       "Median_Income                           0.338089  \n",
       "Age-Adjusted Death Rate                -0.145618  \n",
       "Average Deaths per Year                 1.000000  "
      ]
     },
     "execution_count": 12,
     "metadata": {},
     "output_type": "execute_result"
    }
   ],
   "source": [
    "income_death.corr()"
   ]
  },
  {
   "cell_type": "code",
   "execution_count": 13,
   "id": "b4695c45",
   "metadata": {},
   "outputs": [
    {
     "data": {
      "text/html": [
       "<div>\n",
       "<style scoped>\n",
       "    .dataframe tbody tr th:only-of-type {\n",
       "        vertical-align: middle;\n",
       "    }\n",
       "\n",
       "    .dataframe tbody tr th {\n",
       "        vertical-align: top;\n",
       "    }\n",
       "\n",
       "    .dataframe thead th {\n",
       "        text-align: right;\n",
       "    }\n",
       "</style>\n",
       "<table border=\"1\" class=\"dataframe\">\n",
       "  <thead>\n",
       "    <tr style=\"text-align: right;\">\n",
       "      <th></th>\n",
       "      <th>County</th>\n",
       "      <th>Median_Income</th>\n",
       "      <th>Age-Adjusted Incidence Rate</th>\n",
       "      <th>Average Annual Count</th>\n",
       "    </tr>\n",
       "  </thead>\n",
       "  <tbody>\n",
       "    <tr>\n",
       "      <th>0</th>\n",
       "      <td>Abbeville County, South Carolina</td>\n",
       "      <td>43326.849462</td>\n",
       "      <td>68.1</td>\n",
       "      <td>24</td>\n",
       "    </tr>\n",
       "    <tr>\n",
       "      <th>1</th>\n",
       "      <td>Acadia Parish, Louisiana</td>\n",
       "      <td>42345.339623</td>\n",
       "      <td>79.6</td>\n",
       "      <td>53</td>\n",
       "    </tr>\n",
       "    <tr>\n",
       "      <th>2</th>\n",
       "      <td>Accomack County, Virginia</td>\n",
       "      <td>65267.573826</td>\n",
       "      <td>91.1</td>\n",
       "      <td>46</td>\n",
       "    </tr>\n",
       "    <tr>\n",
       "      <th>3</th>\n",
       "      <td>Ada County, Idaho</td>\n",
       "      <td>45272.370370</td>\n",
       "      <td>52.2</td>\n",
       "      <td>191</td>\n",
       "    </tr>\n",
       "    <tr>\n",
       "      <th>4</th>\n",
       "      <td>Adair County, Iowa</td>\n",
       "      <td>53179.632258</td>\n",
       "      <td>65.2</td>\n",
       "      <td>8</td>\n",
       "    </tr>\n",
       "  </tbody>\n",
       "</table>\n",
       "</div>"
      ],
      "text/plain": [
       "                             County  Median_Income  \\\n",
       "0  Abbeville County, South Carolina   43326.849462   \n",
       "1          Acadia Parish, Louisiana   42345.339623   \n",
       "2         Accomack County, Virginia   65267.573826   \n",
       "3                 Ada County, Idaho   45272.370370   \n",
       "4                Adair County, Iowa   53179.632258   \n",
       "\n",
       "   Age-Adjusted Incidence Rate  Average Annual Count  \n",
       "0                         68.1                    24  \n",
       "1                         79.6                    53  \n",
       "2                         91.1                    46  \n",
       "3                         52.2                   191  \n",
       "4                         65.2                     8  "
      ]
     },
     "execution_count": 13,
     "metadata": {},
     "output_type": "execute_result"
    }
   ],
   "source": [
    "income_incident.head()"
   ]
  },
  {
   "cell_type": "code",
   "execution_count": 14,
   "id": "788980a2",
   "metadata": {},
   "outputs": [],
   "source": [
    "income_incident = income_incident.drop('County',axis=1)"
   ]
  },
  {
   "cell_type": "code",
   "execution_count": 15,
   "id": "a65dbd0d",
   "metadata": {},
   "outputs": [],
   "source": [
    "sns.scatterplot(x='Median_Income',y='Average Annual Count',data=income_incident);"
   ]
  },
  {
   "cell_type": "code",
   "execution_count": 16,
   "id": "3e97f86f",
   "metadata": {},
   "outputs": [],
   "source": [
    "sns.scatterplot(x='Median_Income',y='Age-Adjusted Incidence Rate',data=income_incident);"
   ]
  },
  {
   "cell_type": "code",
   "execution_count": 17,
   "id": "91c33f34",
   "metadata": {},
   "outputs": [
    {
     "data": {
      "text/html": [
       "<div>\n",
       "<style scoped>\n",
       "    .dataframe tbody tr th:only-of-type {\n",
       "        vertical-align: middle;\n",
       "    }\n",
       "\n",
       "    .dataframe tbody tr th {\n",
       "        vertical-align: top;\n",
       "    }\n",
       "\n",
       "    .dataframe thead th {\n",
       "        text-align: right;\n",
       "    }\n",
       "</style>\n",
       "<table border=\"1\" class=\"dataframe\">\n",
       "  <thead>\n",
       "    <tr style=\"text-align: right;\">\n",
       "      <th></th>\n",
       "      <th>Median_Income</th>\n",
       "      <th>Age-Adjusted Incidence Rate</th>\n",
       "      <th>Average Annual Count</th>\n",
       "    </tr>\n",
       "  </thead>\n",
       "  <tbody>\n",
       "    <tr>\n",
       "      <th>Median_Income</th>\n",
       "      <td>1.000000</td>\n",
       "      <td>-0.300574</td>\n",
       "      <td>0.352501</td>\n",
       "    </tr>\n",
       "    <tr>\n",
       "      <th>Age-Adjusted Incidence Rate</th>\n",
       "      <td>-0.300574</td>\n",
       "      <td>1.000000</td>\n",
       "      <td>-0.101902</td>\n",
       "    </tr>\n",
       "    <tr>\n",
       "      <th>Average Annual Count</th>\n",
       "      <td>0.352501</td>\n",
       "      <td>-0.101902</td>\n",
       "      <td>1.000000</td>\n",
       "    </tr>\n",
       "  </tbody>\n",
       "</table>\n",
       "</div>"
      ],
      "text/plain": [
       "                             Median_Income  Age-Adjusted Incidence Rate  \\\n",
       "Median_Income                     1.000000                    -0.300574   \n",
       "Age-Adjusted Incidence Rate      -0.300574                     1.000000   \n",
       "Average Annual Count              0.352501                    -0.101902   \n",
       "\n",
       "                             Average Annual Count  \n",
       "Median_Income                            0.352501  \n",
       "Age-Adjusted Incidence Rate             -0.101902  \n",
       "Average Annual Count                     1.000000  "
      ]
     },
     "execution_count": 17,
     "metadata": {},
     "output_type": "execute_result"
    }
   ],
   "source": [
    "income_incident.corr()"
   ]
  },
  {
   "cell_type": "code",
   "execution_count": 18,
   "id": "cd3444d0",
   "metadata": {},
   "outputs": [
    {
     "data": {
      "text/html": [
       "<div>\n",
       "<style scoped>\n",
       "    .dataframe tbody tr th:only-of-type {\n",
       "        vertical-align: middle;\n",
       "    }\n",
       "\n",
       "    .dataframe tbody tr th {\n",
       "        vertical-align: top;\n",
       "    }\n",
       "\n",
       "    .dataframe thead th {\n",
       "        text-align: right;\n",
       "    }\n",
       "</style>\n",
       "<table border=\"1\" class=\"dataframe\">\n",
       "  <thead>\n",
       "    <tr style=\"text-align: right;\">\n",
       "      <th></th>\n",
       "      <th>Median_Income_x</th>\n",
       "      <th>Age-Adjusted Incidence Rate</th>\n",
       "      <th>Average Annual Count</th>\n",
       "      <th>Age-Adjusted Death Rate</th>\n",
       "      <th>Average Deaths per Year</th>\n",
       "    </tr>\n",
       "  </thead>\n",
       "  <tbody>\n",
       "    <tr>\n",
       "      <th>Median_Income_x</th>\n",
       "      <td>1.000000</td>\n",
       "      <td>-0.309317</td>\n",
       "      <td>0.352895</td>\n",
       "      <td>-0.360187</td>\n",
       "      <td>0.342245</td>\n",
       "    </tr>\n",
       "    <tr>\n",
       "      <th>Age-Adjusted Incidence Rate</th>\n",
       "      <td>-0.309317</td>\n",
       "      <td>1.000000</td>\n",
       "      <td>-0.110913</td>\n",
       "      <td>0.891397</td>\n",
       "      <td>-0.111130</td>\n",
       "    </tr>\n",
       "    <tr>\n",
       "      <th>Average Annual Count</th>\n",
       "      <td>0.352895</td>\n",
       "      <td>-0.110913</td>\n",
       "      <td>1.000000</td>\n",
       "      <td>-0.164815</td>\n",
       "      <td>0.997886</td>\n",
       "    </tr>\n",
       "    <tr>\n",
       "      <th>Age-Adjusted Death Rate</th>\n",
       "      <td>-0.360187</td>\n",
       "      <td>0.891397</td>\n",
       "      <td>-0.164815</td>\n",
       "      <td>1.000000</td>\n",
       "      <td>-0.155333</td>\n",
       "    </tr>\n",
       "    <tr>\n",
       "      <th>Average Deaths per Year</th>\n",
       "      <td>0.342245</td>\n",
       "      <td>-0.111130</td>\n",
       "      <td>0.997886</td>\n",
       "      <td>-0.155333</td>\n",
       "      <td>1.000000</td>\n",
       "    </tr>\n",
       "  </tbody>\n",
       "</table>\n",
       "</div>"
      ],
      "text/plain": [
       "                             Median_Income_x  Age-Adjusted Incidence Rate  \\\n",
       "Median_Income_x                     1.000000                    -0.309317   \n",
       "Age-Adjusted Incidence Rate        -0.309317                     1.000000   \n",
       "Average Annual Count                0.352895                    -0.110913   \n",
       "Age-Adjusted Death Rate            -0.360187                     0.891397   \n",
       "Average Deaths per Year             0.342245                    -0.111130   \n",
       "\n",
       "                             Average Annual Count  Age-Adjusted Death Rate  \\\n",
       "Median_Income_x                          0.352895                -0.360187   \n",
       "Age-Adjusted Incidence Rate             -0.110913                 0.891397   \n",
       "Average Annual Count                     1.000000                -0.164815   \n",
       "Age-Adjusted Death Rate                 -0.164815                 1.000000   \n",
       "Average Deaths per Year                  0.997886                -0.155333   \n",
       "\n",
       "                             Average Deaths per Year  \n",
       "Median_Income_x                             0.342245  \n",
       "Age-Adjusted Incidence Rate                -0.111130  \n",
       "Average Annual Count                        0.997886  \n",
       "Age-Adjusted Death Rate                    -0.155333  \n",
       "Average Deaths per Year                     1.000000  "
      ]
     },
     "execution_count": 18,
     "metadata": {},
     "output_type": "execute_result"
    }
   ],
   "source": [
    "incident_death.corr()                                                                                                                             "
   ]
  },
  {
   "cell_type": "code",
   "execution_count": 19,
   "id": "f1faa5fd",
   "metadata": {},
   "outputs": [],
   "source": [
    "incident_death = incident_death.drop('County',axis=1)"
   ]
  },
  {
   "cell_type": "code",
   "execution_count": 20,
   "id": "ad37a26e",
   "metadata": {},
   "outputs": [
    {
     "data": {
      "text/html": [
       "<div>\n",
       "<style scoped>\n",
       "    .dataframe tbody tr th:only-of-type {\n",
       "        vertical-align: middle;\n",
       "    }\n",
       "\n",
       "    .dataframe tbody tr th {\n",
       "        vertical-align: top;\n",
       "    }\n",
       "\n",
       "    .dataframe thead th {\n",
       "        text-align: right;\n",
       "    }\n",
       "</style>\n",
       "<table border=\"1\" class=\"dataframe\">\n",
       "  <thead>\n",
       "    <tr style=\"text-align: right;\">\n",
       "      <th></th>\n",
       "      <th>Median_Income_x</th>\n",
       "      <th>Age-Adjusted Incidence Rate</th>\n",
       "      <th>Average Annual Count</th>\n",
       "      <th>Age-Adjusted Death Rate</th>\n",
       "      <th>Average Deaths per Year</th>\n",
       "    </tr>\n",
       "  </thead>\n",
       "  <tbody>\n",
       "    <tr>\n",
       "      <th>0</th>\n",
       "      <td>43326.849462</td>\n",
       "      <td>68.1</td>\n",
       "      <td>24</td>\n",
       "      <td>57.6</td>\n",
       "      <td>20</td>\n",
       "    </tr>\n",
       "    <tr>\n",
       "      <th>1</th>\n",
       "      <td>42345.339623</td>\n",
       "      <td>79.6</td>\n",
       "      <td>53</td>\n",
       "      <td>68.6</td>\n",
       "      <td>46</td>\n",
       "    </tr>\n",
       "    <tr>\n",
       "      <th>2</th>\n",
       "      <td>65267.573826</td>\n",
       "      <td>91.1</td>\n",
       "      <td>46</td>\n",
       "      <td>76.7</td>\n",
       "      <td>38</td>\n",
       "    </tr>\n",
       "    <tr>\n",
       "      <th>3</th>\n",
       "      <td>45272.370370</td>\n",
       "      <td>52.2</td>\n",
       "      <td>191</td>\n",
       "      <td>37.6</td>\n",
       "      <td>136</td>\n",
       "    </tr>\n",
       "    <tr>\n",
       "      <th>4</th>\n",
       "      <td>53179.632258</td>\n",
       "      <td>65.2</td>\n",
       "      <td>8</td>\n",
       "      <td>42.3</td>\n",
       "      <td>5</td>\n",
       "    </tr>\n",
       "    <tr>\n",
       "      <th>...</th>\n",
       "      <td>...</td>\n",
       "      <td>...</td>\n",
       "      <td>...</td>\n",
       "      <td>...</td>\n",
       "      <td>...</td>\n",
       "    </tr>\n",
       "    <tr>\n",
       "      <th>1255</th>\n",
       "      <td>54664.666667</td>\n",
       "      <td>67.2</td>\n",
       "      <td>353</td>\n",
       "      <td>46.0</td>\n",
       "      <td>240</td>\n",
       "    </tr>\n",
       "    <tr>\n",
       "      <th>1256</th>\n",
       "      <td>39903.000000</td>\n",
       "      <td>66.8</td>\n",
       "      <td>157</td>\n",
       "      <td>54.0</td>\n",
       "      <td>124</td>\n",
       "    </tr>\n",
       "    <tr>\n",
       "      <th>1257</th>\n",
       "      <td>36772.000000</td>\n",
       "      <td>74.2</td>\n",
       "      <td>20</td>\n",
       "      <td>60.2</td>\n",
       "      <td>16</td>\n",
       "    </tr>\n",
       "    <tr>\n",
       "      <th>1258</th>\n",
       "      <td>46888.000000</td>\n",
       "      <td>68.1</td>\n",
       "      <td>44</td>\n",
       "      <td>55.3</td>\n",
       "      <td>35</td>\n",
       "    </tr>\n",
       "    <tr>\n",
       "      <th>1259</th>\n",
       "      <td>37453.000000</td>\n",
       "      <td>62.5</td>\n",
       "      <td>8</td>\n",
       "      <td>40.3</td>\n",
       "      <td>5</td>\n",
       "    </tr>\n",
       "  </tbody>\n",
       "</table>\n",
       "<p>1260 rows × 5 columns</p>\n",
       "</div>"
      ],
      "text/plain": [
       "      Median_Income_x  Age-Adjusted Incidence Rate  Average Annual Count  \\\n",
       "0        43326.849462                         68.1                    24   \n",
       "1        42345.339623                         79.6                    53   \n",
       "2        65267.573826                         91.1                    46   \n",
       "3        45272.370370                         52.2                   191   \n",
       "4        53179.632258                         65.2                     8   \n",
       "...               ...                          ...                   ...   \n",
       "1255     54664.666667                         67.2                   353   \n",
       "1256     39903.000000                         66.8                   157   \n",
       "1257     36772.000000                         74.2                    20   \n",
       "1258     46888.000000                         68.1                    44   \n",
       "1259     37453.000000                         62.5                     8   \n",
       "\n",
       "      Age-Adjusted Death Rate  Average Deaths per Year  \n",
       "0                        57.6                       20  \n",
       "1                        68.6                       46  \n",
       "2                        76.7                       38  \n",
       "3                        37.6                      136  \n",
       "4                        42.3                        5  \n",
       "...                       ...                      ...  \n",
       "1255                     46.0                      240  \n",
       "1256                     54.0                      124  \n",
       "1257                     60.2                       16  \n",
       "1258                     55.3                       35  \n",
       "1259                     40.3                        5  \n",
       "\n",
       "[1260 rows x 5 columns]"
      ]
     },
     "execution_count": 20,
     "metadata": {},
     "output_type": "execute_result"
    }
   ],
   "source": [
    "incident_death"
   ]
  },
  {
   "cell_type": "markdown",
   "id": "33871553",
   "metadata": {},
   "source": [
    "## Define x and y"
   ]
  },
  {
   "cell_type": "code",
   "execution_count": 22,
   "id": "722e0409",
   "metadata": {},
   "outputs": [],
   "source": [
    "# Independent Variable x and Dependent Variable y"
   ]
  },
  {
   "cell_type": "code",
   "execution_count": 23,
   "id": "76efd5fe",
   "metadata": {},
   "outputs": [],
   "source": [
    "x=incident_death.drop(['Age-Adjusted Death Rate'],axis=1).values"
   ]
  },
  {
   "cell_type": "code",
   "execution_count": 24,
   "id": "a6d1a6fa",
   "metadata": {},
   "outputs": [],
   "source": [
    "y=incident_death['Age-Adjusted Death Rate'].values"
   ]
  },
  {
   "cell_type": "code",
   "execution_count": 25,
   "id": "18e6ccf5",
   "metadata": {},
   "outputs": [
    {
     "name": "stdout",
     "output_type": "stream",
     "text": [
      "[[4.33268495e+04 6.81000000e+01 2.40000000e+01 2.00000000e+01]\n",
      " [4.23453396e+04 7.96000000e+01 5.30000000e+01 4.60000000e+01]\n",
      " [6.52675738e+04 9.11000000e+01 4.60000000e+01 3.80000000e+01]\n",
      " ...\n",
      " [3.67720000e+04 7.42000000e+01 2.00000000e+01 1.60000000e+01]\n",
      " [4.68880000e+04 6.81000000e+01 4.40000000e+01 3.50000000e+01]\n",
      " [3.74530000e+04 6.25000000e+01 8.00000000e+00 5.00000000e+00]]\n"
     ]
    }
   ],
   "source": [
    "print(x)"
   ]
  },
  {
   "cell_type": "code",
   "execution_count": 26,
   "id": "1f1428b6",
   "metadata": {},
   "outputs": [
    {
     "name": "stdout",
     "output_type": "stream",
     "text": [
      "[57.6 68.6 76.7 ... 60.2 55.3 40.3]\n"
     ]
    }
   ],
   "source": [
    "print(y)"
   ]
  },
  {
   "cell_type": "markdown",
   "id": "9835045a",
   "metadata": {},
   "source": [
    "## Split the dataset in training set and test set"
   ]
  },
  {
   "cell_type": "code",
   "execution_count": 27,
   "id": "1db8a122",
   "metadata": {},
   "outputs": [],
   "source": [
    "from sklearn.model_selection import train_test_split\n",
    "x_train,x_test,y_train,y_test = train_test_split(x,y, test_size=0.3,random_state=0)"
   ]
  },
  {
   "cell_type": "markdown",
   "id": "56b66859",
   "metadata": {},
   "source": [
    "## Train the model on the training set"
   ]
  },
  {
   "cell_type": "code",
   "execution_count": 28,
   "id": "c77c6815",
   "metadata": {},
   "outputs": [
    {
     "data": {
      "text/plain": [
       "LinearRegression()"
      ]
     },
     "execution_count": 28,
     "metadata": {},
     "output_type": "execute_result"
    }
   ],
   "source": [
    "from sklearn.linear_model import LinearRegression\n",
    "ml = LinearRegression()\n",
    "ml.fit(x_train,y_train)"
   ]
  },
  {
   "cell_type": "markdown",
   "id": "e2c2b685",
   "metadata": {},
   "source": [
    "## Predict the test set results"
   ]
  },
  {
   "cell_type": "code",
   "execution_count": 29,
   "id": "92299a97",
   "metadata": {},
   "outputs": [
    {
     "name": "stdout",
     "output_type": "stream",
     "text": [
      "[ 68.19227745  53.93409299  58.56050527  42.38878319  49.75746138\n",
      "  45.74910689  52.50345744  40.24044869  31.63198994  41.25917585\n",
      "  53.68968375  15.45552833  55.40209373  59.41409794  56.02773877\n",
      "  25.8486905   53.0404346   68.39538471  51.06023488  57.81462642\n",
      "  48.9122289   41.76538508  55.09275777  46.20719789  55.81239092\n",
      "  62.77746323  67.93647412  52.11510983  54.99325336  60.53250382\n",
      "  66.97734296  45.25939593  54.90020247  46.95886531  42.64371003\n",
      "  44.49800688  69.84302746  57.67910075  53.09624649  48.93296823\n",
      "  63.02205841  47.35468434  67.86479889  36.28686469  73.8822122\n",
      "  61.2450589   48.41486181  52.62094189  62.40867483  62.01548981\n",
      "  37.03183579  50.44053147  57.2217063   67.74555274  47.14680159\n",
      "  56.40760763  14.07841588  63.09691296  61.06393625  41.08704214\n",
      "  62.92072026  77.05643593  52.43382255  55.00252274  66.40468385\n",
      "  42.67393479  35.95240356  52.57396926  70.13756194  64.11001669\n",
      "  49.07057862  60.84906692  25.35642691  44.86999338  44.38905978\n",
      "  75.23336719  78.75045403  62.02152769  57.22102321  22.25190607\n",
      "  31.62432907  45.45356233  61.10033148  56.616751    43.31064801\n",
      "  50.24793889  41.65023071  54.92830597  55.41967619  42.07181866\n",
      "  75.34890053  52.1689035   51.81296004  70.04249175  54.27602014\n",
      "  48.05579521  70.08025899  60.43928913  35.16846629  58.35963858\n",
      "  72.84672811  52.74146439  35.67720609  51.40184181  55.57071639\n",
      "  38.16311041  51.77769447  59.22637521  61.51352422  39.23096106\n",
      "  54.63392894  84.50150081  74.37440245  20.82132497  58.48821884\n",
      "  83.46959973  56.06737461  29.09719196  46.3096645   51.61823421\n",
      "  33.33460368  61.89051544  57.8955025   41.0903482   79.17525534\n",
      "  36.0428906   46.34495802  52.46292363  40.16604716  82.4798217\n",
      "  59.95766971  43.92817043  74.82836912  34.44305669  30.04569281\n",
      "  37.75786523  40.97703656  52.93750885  55.17408174  53.42898636\n",
      "  53.57945067  50.08994244  61.31861861  46.43626608  44.94411315\n",
      "  67.13130014  58.11182497  41.38252131  43.78898889  42.31212237\n",
      "  62.73083237  49.31858437  40.90881689  51.97900563  49.73347673\n",
      "  49.27163931  50.32985202  43.01187453  44.02459697  53.2182149\n",
      "  51.15231882  35.29680057  43.23838871  38.05013804  54.86796302\n",
      "  54.84501253  73.26721871  47.5675133   77.14863784  41.62446464\n",
      "  49.90344848  31.97135143  59.93660558  49.9950973   50.90969272\n",
      "  70.80829121  37.7053299   53.49656242  44.3271783   46.78912482\n",
      "  39.67802784  65.2381647   57.48991023  65.5848435   56.55063227\n",
      "  33.52020675  52.3138827   66.09759587  50.64414353  50.19426936\n",
      "  68.29731189  60.43502833  56.80330462  58.80693917  52.71839702\n",
      "  47.85141637  36.70705884  51.71940198  53.64071642  60.27655696\n",
      "  91.67184849  52.93035799  40.81484643  59.93849307  71.30817252\n",
      "  60.22324656  45.43540078  33.4992915   73.50783599  68.6517319\n",
      "  51.24151401  40.10006779  24.94704468  44.30542013  50.23084932\n",
      "  69.0740819   49.53196413  50.83271793  67.13528651  65.38435421\n",
      "  57.55313529  51.78241914  46.31649689  51.13537422  59.72808825\n",
      "  57.93643992  56.2967224   38.79266464  45.28489286  48.09364589\n",
      "  63.06303325  57.27553885  47.57713915  41.60222319  40.47687915\n",
      "  24.17252336  46.14691803  29.77201528  59.05156655  37.42784823\n",
      "  40.32378543  39.19469971  43.25465427  53.09759515  65.19651302\n",
      "  56.07293699  63.59813279  42.8838411   54.81726352  49.12073438\n",
      "  49.9517771   36.76612789  61.63120302  44.95320281  53.19712455\n",
      "  35.84974881  51.49773759  54.32227105  49.20322972  53.24463177\n",
      "  58.21790892  67.35712329  65.30848508  59.01248574  64.39508581\n",
      "  44.14580044  44.69657372  35.9488261   48.2866615   60.58766606\n",
      "  77.74626604  56.95168978  52.39509975  29.74291679  55.50137498\n",
      "  61.69777544  62.67632077  35.86849424  56.12971304  31.54130531\n",
      "  43.14300028  69.44633484  74.2671172   48.87881175  68.8926362\n",
      "  31.21119326  54.41142602  86.62463565  51.01591037  29.10291141\n",
      "  58.59077176  48.60883762  68.19226487  53.69544075  35.76893534\n",
      "  49.59036611  65.59202961  13.69780487  63.16077353  38.37215078\n",
      "  47.3592648   37.81910246  45.50934151  44.47164448  49.78541956\n",
      "  57.03770364  86.66273173  60.55154173  56.35107903  59.84912774\n",
      "  36.59016295  45.82541105  59.20127847  50.30815656  61.06216924\n",
      "  39.30902513  46.78510167  61.37828109  46.50470367  46.93555677\n",
      "  38.11195135  50.68175452  52.56696261  55.6867472   67.68124266\n",
      "  58.0078251  111.43798786  59.14517152  57.08833947  51.41003206\n",
      "  64.1140477   54.81788659  38.39607108  68.97752803  62.63283029\n",
      "  59.29542082  57.0313534   57.23195613  40.51274465  44.57169106\n",
      "  41.37131359  46.80507861  41.21224319  43.95997594  45.63830304\n",
      "  38.60763988  50.22328235  53.32892997  39.40325461  57.11571901\n",
      "  51.28795875  53.66559048  71.48865861  33.60829504  67.90326088\n",
      "  42.96294823  24.85451747  68.11614687  42.05527745  54.43410943\n",
      "  50.18169986  60.48703301  60.05411789  49.94713003  54.40059486\n",
      "  61.7654894   55.53814508  53.7873467   63.00209757  41.21837327\n",
      "  65.97082262  56.46863307  45.09926603  62.36776018  50.98301896\n",
      "  52.98329387  63.51303989  50.69790162]\n"
     ]
    }
   ],
   "source": [
    "y_pred=ml.predict(x_test)\n",
    "print(y_pred)"
   ]
  },
  {
   "cell_type": "code",
   "execution_count": 30,
   "id": "e9e47e65",
   "metadata": {},
   "outputs": [
    {
     "data": {
      "text/plain": [
       "array([61.2450589])"
      ]
     },
     "execution_count": 30,
     "metadata": {},
     "output_type": "execute_result"
    }
   ],
   "source": [
    "ml.predict([[42345.339623,79.6,53,46]])"
   ]
  },
  {
   "cell_type": "markdown",
   "id": "d52b06e3",
   "metadata": {},
   "source": [
    "## Evaluate the model"
   ]
  },
  {
   "cell_type": "code",
   "execution_count": 31,
   "id": "922b68b2",
   "metadata": {},
   "outputs": [
    {
     "data": {
      "text/plain": [
       "0.8245352983243792"
      ]
     },
     "execution_count": 31,
     "metadata": {},
     "output_type": "execute_result"
    }
   ],
   "source": [
    "from sklearn.metrics import r2_score\n",
    "r2_score(y_test,y_pred)"
   ]
  },
  {
   "cell_type": "markdown",
   "id": "aff0a32c",
   "metadata": {},
   "source": [
    "## Plot the results"
   ]
  },
  {
   "cell_type": "code",
   "execution_count": 32,
   "id": "7e957b42",
   "metadata": {},
   "outputs": [
    {
     "data": {
      "text/plain": [
       "Text(0.5, 1.0, 'Actual vs, Predicted')"
      ]
     },
     "execution_count": 32,
     "metadata": {},
     "output_type": "execute_result"
    }
   ],
   "source": [
    "plt.figure(figsize=(15,10))\n",
    "plt.scatter(y_test,y_pred)\n",
    "plt.xlabel('Actual')\n",
    "plt.ylabel('Predicted')\n",
    "plt.title('Actual vs, Predicted')"
   ]
  },
  {
   "cell_type": "markdown",
   "id": "c5ff90b8",
   "metadata": {},
   "source": [
    "## Predicted values"
   ]
  },
  {
   "cell_type": "code",
   "execution_count": 33,
   "id": "3ea7a22d",
   "metadata": {
    "scrolled": true
   },
   "outputs": [
    {
     "data": {
      "text/html": [
       "<div>\n",
       "<style scoped>\n",
       "    .dataframe tbody tr th:only-of-type {\n",
       "        vertical-align: middle;\n",
       "    }\n",
       "\n",
       "    .dataframe tbody tr th {\n",
       "        vertical-align: top;\n",
       "    }\n",
       "\n",
       "    .dataframe thead th {\n",
       "        text-align: right;\n",
       "    }\n",
       "</style>\n",
       "<table border=\"1\" class=\"dataframe\">\n",
       "  <thead>\n",
       "    <tr style=\"text-align: right;\">\n",
       "      <th></th>\n",
       "      <th>Actual Value</th>\n",
       "      <th>Predicted Value</th>\n",
       "      <th>Difference</th>\n",
       "    </tr>\n",
       "  </thead>\n",
       "  <tbody>\n",
       "    <tr>\n",
       "      <th>0</th>\n",
       "      <td>64.5</td>\n",
       "      <td>68.192277</td>\n",
       "      <td>-3.692277</td>\n",
       "    </tr>\n",
       "    <tr>\n",
       "      <th>1</th>\n",
       "      <td>51.5</td>\n",
       "      <td>53.934093</td>\n",
       "      <td>-2.434093</td>\n",
       "    </tr>\n",
       "    <tr>\n",
       "      <th>2</th>\n",
       "      <td>63.1</td>\n",
       "      <td>58.560505</td>\n",
       "      <td>4.539495</td>\n",
       "    </tr>\n",
       "    <tr>\n",
       "      <th>3</th>\n",
       "      <td>39.0</td>\n",
       "      <td>42.388783</td>\n",
       "      <td>-3.388783</td>\n",
       "    </tr>\n",
       "    <tr>\n",
       "      <th>4</th>\n",
       "      <td>50.3</td>\n",
       "      <td>49.757461</td>\n",
       "      <td>0.542539</td>\n",
       "    </tr>\n",
       "    <tr>\n",
       "      <th>5</th>\n",
       "      <td>44.0</td>\n",
       "      <td>45.749107</td>\n",
       "      <td>-1.749107</td>\n",
       "    </tr>\n",
       "    <tr>\n",
       "      <th>6</th>\n",
       "      <td>53.2</td>\n",
       "      <td>52.503457</td>\n",
       "      <td>0.696543</td>\n",
       "    </tr>\n",
       "    <tr>\n",
       "      <th>7</th>\n",
       "      <td>30.7</td>\n",
       "      <td>40.240449</td>\n",
       "      <td>-9.540449</td>\n",
       "    </tr>\n",
       "    <tr>\n",
       "      <th>8</th>\n",
       "      <td>34.5</td>\n",
       "      <td>31.631990</td>\n",
       "      <td>2.868010</td>\n",
       "    </tr>\n",
       "    <tr>\n",
       "      <th>9</th>\n",
       "      <td>39.3</td>\n",
       "      <td>41.259176</td>\n",
       "      <td>-1.959176</td>\n",
       "    </tr>\n",
       "    <tr>\n",
       "      <th>10</th>\n",
       "      <td>54.6</td>\n",
       "      <td>53.689684</td>\n",
       "      <td>0.910316</td>\n",
       "    </tr>\n",
       "    <tr>\n",
       "      <th>11</th>\n",
       "      <td>12.4</td>\n",
       "      <td>15.455528</td>\n",
       "      <td>-3.055528</td>\n",
       "    </tr>\n",
       "    <tr>\n",
       "      <th>12</th>\n",
       "      <td>54.7</td>\n",
       "      <td>55.402094</td>\n",
       "      <td>-0.702094</td>\n",
       "    </tr>\n",
       "    <tr>\n",
       "      <th>13</th>\n",
       "      <td>54.2</td>\n",
       "      <td>59.414098</td>\n",
       "      <td>-5.214098</td>\n",
       "    </tr>\n",
       "    <tr>\n",
       "      <th>14</th>\n",
       "      <td>54.9</td>\n",
       "      <td>56.027739</td>\n",
       "      <td>-1.127739</td>\n",
       "    </tr>\n",
       "    <tr>\n",
       "      <th>15</th>\n",
       "      <td>21.0</td>\n",
       "      <td>25.848690</td>\n",
       "      <td>-4.848690</td>\n",
       "    </tr>\n",
       "    <tr>\n",
       "      <th>16</th>\n",
       "      <td>66.3</td>\n",
       "      <td>53.040435</td>\n",
       "      <td>13.259565</td>\n",
       "    </tr>\n",
       "    <tr>\n",
       "      <th>17</th>\n",
       "      <td>59.7</td>\n",
       "      <td>68.395385</td>\n",
       "      <td>-8.695385</td>\n",
       "    </tr>\n",
       "    <tr>\n",
       "      <th>18</th>\n",
       "      <td>50.2</td>\n",
       "      <td>51.060235</td>\n",
       "      <td>-0.860235</td>\n",
       "    </tr>\n",
       "    <tr>\n",
       "      <th>19</th>\n",
       "      <td>48.2</td>\n",
       "      <td>57.814626</td>\n",
       "      <td>-9.614626</td>\n",
       "    </tr>\n",
       "  </tbody>\n",
       "</table>\n",
       "</div>"
      ],
      "text/plain": [
       "    Actual Value  Predicted Value  Difference\n",
       "0           64.5        68.192277   -3.692277\n",
       "1           51.5        53.934093   -2.434093\n",
       "2           63.1        58.560505    4.539495\n",
       "3           39.0        42.388783   -3.388783\n",
       "4           50.3        49.757461    0.542539\n",
       "5           44.0        45.749107   -1.749107\n",
       "6           53.2        52.503457    0.696543\n",
       "7           30.7        40.240449   -9.540449\n",
       "8           34.5        31.631990    2.868010\n",
       "9           39.3        41.259176   -1.959176\n",
       "10          54.6        53.689684    0.910316\n",
       "11          12.4        15.455528   -3.055528\n",
       "12          54.7        55.402094   -0.702094\n",
       "13          54.2        59.414098   -5.214098\n",
       "14          54.9        56.027739   -1.127739\n",
       "15          21.0        25.848690   -4.848690\n",
       "16          66.3        53.040435   13.259565\n",
       "17          59.7        68.395385   -8.695385\n",
       "18          50.2        51.060235   -0.860235\n",
       "19          48.2        57.814626   -9.614626"
      ]
     },
     "execution_count": 33,
     "metadata": {},
     "output_type": "execute_result"
    }
   ],
   "source": [
    "pred_y_df = pd.DataFrame({'Actual Value':y_test,'Predicted Value':y_pred,'Difference': y_test-y_pred})\n",
    "pred_y_df[0:20]"
   ]
  },
  {
   "cell_type": "code",
   "execution_count": null,
   "id": "1eb98795",
   "metadata": {},
   "outputs": [],
   "source": []
  }
 ],
 "metadata": {
  "kernelspec": {
   "display_name": "Python 3 (ipykernel)",
   "language": "python",
   "name": "python3"
  },
  "language_info": {
   "codemirror_mode": {
    "name": "ipython",
    "version": 3
   },
   "file_extension": ".py",
   "mimetype": "text/x-python",
   "name": "python",
   "nbconvert_exporter": "python",
   "pygments_lexer": "ipython3",
   "version": "3.9.13"
  }
 },
 "nbformat": 4,
 "nbformat_minor": 5
}
